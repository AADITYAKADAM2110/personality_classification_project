{
 "cells": [
  {
   "cell_type": "code",
   "execution_count": 4,
   "id": "5a4d2e45",
   "metadata": {},
   "outputs": [
    {
     "name": "stdout",
     "output_type": "stream",
     "text": [
      "Collecting numpy (from -r C:\\Users\\DELL\\Desktop\\Classification_Project\\requirement.txt (line 1))\n",
      "  Using cached numpy-2.3.2-cp312-cp312-win_amd64.whl.metadata (60 kB)\n",
      "Collecting pandas (from -r C:\\Users\\DELL\\Desktop\\Classification_Project\\requirement.txt (line 2))\n",
      "  Using cached pandas-2.3.1-cp312-cp312-win_amd64.whl.metadata (19 kB)\n",
      "Collecting scikit-learn (from -r C:\\Users\\DELL\\Desktop\\Classification_Project\\requirement.txt (line 3))\n",
      "  Using cached scikit_learn-1.7.1-cp312-cp312-win_amd64.whl.metadata (11 kB)\n",
      "Collecting matplotlib (from -r C:\\Users\\DELL\\Desktop\\Classification_Project\\requirement.txt (line 4))\n",
      "  Using cached matplotlib-3.10.3-cp312-cp312-win_amd64.whl.metadata (11 kB)\n",
      "Collecting seaborn (from -r C:\\Users\\DELL\\Desktop\\Classification_Project\\requirement.txt (line 5))\n",
      "  Using cached seaborn-0.13.2-py3-none-any.whl.metadata (5.4 kB)\n",
      "Collecting jupyter (from -r C:\\Users\\DELL\\Desktop\\Classification_Project\\requirement.txt (line 6))\n",
      "  Downloading jupyter-1.1.1-py2.py3-none-any.whl.metadata (2.0 kB)\n",
      "Requirement already satisfied: python-dateutil>=2.8.2 in c:\\users\\dell\\appdata\\roaming\\python\\python312\\site-packages (from pandas->-r C:\\Users\\DELL\\Desktop\\Classification_Project\\requirement.txt (line 2)) (2.9.0.post0)\n",
      "Collecting pytz>=2020.1 (from pandas->-r C:\\Users\\DELL\\Desktop\\Classification_Project\\requirement.txt (line 2))\n",
      "  Using cached pytz-2025.2-py2.py3-none-any.whl.metadata (22 kB)\n",
      "Collecting tzdata>=2022.7 (from pandas->-r C:\\Users\\DELL\\Desktop\\Classification_Project\\requirement.txt (line 2))\n",
      "  Using cached tzdata-2025.2-py2.py3-none-any.whl.metadata (1.4 kB)\n",
      "Collecting scipy>=1.8.0 (from scikit-learn->-r C:\\Users\\DELL\\Desktop\\Classification_Project\\requirement.txt (line 3))\n",
      "  Using cached scipy-1.16.0-cp312-cp312-win_amd64.whl.metadata (60 kB)\n",
      "Collecting joblib>=1.2.0 (from scikit-learn->-r C:\\Users\\DELL\\Desktop\\Classification_Project\\requirement.txt (line 3))\n",
      "  Using cached joblib-1.5.1-py3-none-any.whl.metadata (5.6 kB)\n",
      "Collecting threadpoolctl>=3.1.0 (from scikit-learn->-r C:\\Users\\DELL\\Desktop\\Classification_Project\\requirement.txt (line 3))\n",
      "  Using cached threadpoolctl-3.6.0-py3-none-any.whl.metadata (13 kB)\n",
      "Collecting contourpy>=1.0.1 (from matplotlib->-r C:\\Users\\DELL\\Desktop\\Classification_Project\\requirement.txt (line 4))\n",
      "  Downloading contourpy-1.3.3-cp312-cp312-win_amd64.whl.metadata (5.5 kB)\n",
      "Collecting cycler>=0.10 (from matplotlib->-r C:\\Users\\DELL\\Desktop\\Classification_Project\\requirement.txt (line 4))\n",
      "  Using cached cycler-0.12.1-py3-none-any.whl.metadata (3.8 kB)\n",
      "Collecting fonttools>=4.22.0 (from matplotlib->-r C:\\Users\\DELL\\Desktop\\Classification_Project\\requirement.txt (line 4))\n",
      "  Using cached fonttools-4.59.0-cp312-cp312-win_amd64.whl.metadata (110 kB)\n",
      "Collecting kiwisolver>=1.3.1 (from matplotlib->-r C:\\Users\\DELL\\Desktop\\Classification_Project\\requirement.txt (line 4))\n",
      "  Using cached kiwisolver-1.4.8-cp312-cp312-win_amd64.whl.metadata (6.3 kB)\n",
      "Requirement already satisfied: packaging>=20.0 in c:\\users\\dell\\appdata\\roaming\\python\\python312\\site-packages (from matplotlib->-r C:\\Users\\DELL\\Desktop\\Classification_Project\\requirement.txt (line 4)) (25.0)\n",
      "Collecting pillow>=8 (from matplotlib->-r C:\\Users\\DELL\\Desktop\\Classification_Project\\requirement.txt (line 4))\n",
      "  Using cached pillow-11.3.0-cp312-cp312-win_amd64.whl.metadata (9.2 kB)\n",
      "Collecting pyparsing>=2.3.1 (from matplotlib->-r C:\\Users\\DELL\\Desktop\\Classification_Project\\requirement.txt (line 4))\n",
      "  Using cached pyparsing-3.2.3-py3-none-any.whl.metadata (5.0 kB)\n",
      "Collecting notebook (from jupyter->-r C:\\Users\\DELL\\Desktop\\Classification_Project\\requirement.txt (line 6))\n",
      "  Downloading notebook-7.4.4-py3-none-any.whl.metadata (10 kB)\n",
      "Collecting jupyter-console (from jupyter->-r C:\\Users\\DELL\\Desktop\\Classification_Project\\requirement.txt (line 6))\n",
      "  Downloading jupyter_console-6.6.3-py3-none-any.whl.metadata (5.8 kB)\n",
      "Collecting nbconvert (from jupyter->-r C:\\Users\\DELL\\Desktop\\Classification_Project\\requirement.txt (line 6))\n",
      "  Using cached nbconvert-7.16.6-py3-none-any.whl.metadata (8.5 kB)\n",
      "Requirement already satisfied: ipykernel in c:\\users\\dell\\appdata\\roaming\\python\\python312\\site-packages (from jupyter->-r C:\\Users\\DELL\\Desktop\\Classification_Project\\requirement.txt (line 6)) (6.29.5)\n",
      "Collecting ipywidgets (from jupyter->-r C:\\Users\\DELL\\Desktop\\Classification_Project\\requirement.txt (line 6))\n",
      "  Downloading ipywidgets-8.1.7-py3-none-any.whl.metadata (2.4 kB)\n",
      "Collecting jupyterlab (from jupyter->-r C:\\Users\\DELL\\Desktop\\Classification_Project\\requirement.txt (line 6))\n",
      "  Downloading jupyterlab-4.4.5-py3-none-any.whl.metadata (16 kB)\n",
      "Requirement already satisfied: six>=1.5 in c:\\users\\dell\\appdata\\roaming\\python\\python312\\site-packages (from python-dateutil>=2.8.2->pandas->-r C:\\Users\\DELL\\Desktop\\Classification_Project\\requirement.txt (line 2)) (1.17.0)\n",
      "Requirement already satisfied: comm>=0.1.1 in c:\\users\\dell\\appdata\\roaming\\python\\python312\\site-packages (from ipykernel->jupyter->-r C:\\Users\\DELL\\Desktop\\Classification_Project\\requirement.txt (line 6)) (0.2.2)\n",
      "Requirement already satisfied: debugpy>=1.6.5 in c:\\users\\dell\\appdata\\roaming\\python\\python312\\site-packages (from ipykernel->jupyter->-r C:\\Users\\DELL\\Desktop\\Classification_Project\\requirement.txt (line 6)) (1.8.14)\n",
      "Requirement already satisfied: ipython>=7.23.1 in c:\\users\\dell\\appdata\\roaming\\python\\python312\\site-packages (from ipykernel->jupyter->-r C:\\Users\\DELL\\Desktop\\Classification_Project\\requirement.txt (line 6)) (9.4.0)\n",
      "Requirement already satisfied: jupyter-client>=6.1.12 in c:\\users\\dell\\appdata\\roaming\\python\\python312\\site-packages (from ipykernel->jupyter->-r C:\\Users\\DELL\\Desktop\\Classification_Project\\requirement.txt (line 6)) (8.6.3)\n",
      "Requirement already satisfied: jupyter-core!=5.0.*,>=4.12 in c:\\users\\dell\\appdata\\roaming\\python\\python312\\site-packages (from ipykernel->jupyter->-r C:\\Users\\DELL\\Desktop\\Classification_Project\\requirement.txt (line 6)) (5.8.1)\n",
      "Requirement already satisfied: matplotlib-inline>=0.1 in c:\\users\\dell\\appdata\\roaming\\python\\python312\\site-packages (from ipykernel->jupyter->-r C:\\Users\\DELL\\Desktop\\Classification_Project\\requirement.txt (line 6)) (0.1.7)\n",
      "Requirement already satisfied: nest-asyncio in c:\\users\\dell\\appdata\\roaming\\python\\python312\\site-packages (from ipykernel->jupyter->-r C:\\Users\\DELL\\Desktop\\Classification_Project\\requirement.txt (line 6)) (1.6.0)\n",
      "Requirement already satisfied: psutil in c:\\users\\dell\\appdata\\roaming\\python\\python312\\site-packages (from ipykernel->jupyter->-r C:\\Users\\DELL\\Desktop\\Classification_Project\\requirement.txt (line 6)) (7.0.0)\n",
      "Requirement already satisfied: pyzmq>=24 in c:\\users\\dell\\appdata\\roaming\\python\\python312\\site-packages (from ipykernel->jupyter->-r C:\\Users\\DELL\\Desktop\\Classification_Project\\requirement.txt (line 6)) (27.0.0)\n",
      "Requirement already satisfied: tornado>=6.1 in c:\\users\\dell\\appdata\\roaming\\python\\python312\\site-packages (from ipykernel->jupyter->-r C:\\Users\\DELL\\Desktop\\Classification_Project\\requirement.txt (line 6)) (6.5.1)\n",
      "Requirement already satisfied: traitlets>=5.4.0 in c:\\users\\dell\\appdata\\roaming\\python\\python312\\site-packages (from ipykernel->jupyter->-r C:\\Users\\DELL\\Desktop\\Classification_Project\\requirement.txt (line 6)) (5.14.3)\n",
      "Requirement already satisfied: colorama in c:\\users\\dell\\appdata\\roaming\\python\\python312\\site-packages (from ipython>=7.23.1->ipykernel->jupyter->-r C:\\Users\\DELL\\Desktop\\Classification_Project\\requirement.txt (line 6)) (0.4.6)\n",
      "Requirement already satisfied: decorator in c:\\users\\dell\\appdata\\roaming\\python\\python312\\site-packages (from ipython>=7.23.1->ipykernel->jupyter->-r C:\\Users\\DELL\\Desktop\\Classification_Project\\requirement.txt (line 6)) (5.2.1)\n",
      "Requirement already satisfied: ipython-pygments-lexers in c:\\users\\dell\\appdata\\roaming\\python\\python312\\site-packages (from ipython>=7.23.1->ipykernel->jupyter->-r C:\\Users\\DELL\\Desktop\\Classification_Project\\requirement.txt (line 6)) (1.1.1)\n",
      "Requirement already satisfied: jedi>=0.16 in c:\\users\\dell\\appdata\\roaming\\python\\python312\\site-packages (from ipython>=7.23.1->ipykernel->jupyter->-r C:\\Users\\DELL\\Desktop\\Classification_Project\\requirement.txt (line 6)) (0.19.2)\n",
      "Requirement already satisfied: prompt_toolkit<3.1.0,>=3.0.41 in c:\\users\\dell\\appdata\\roaming\\python\\python312\\site-packages (from ipython>=7.23.1->ipykernel->jupyter->-r C:\\Users\\DELL\\Desktop\\Classification_Project\\requirement.txt (line 6)) (3.0.51)\n",
      "Requirement already satisfied: pygments>=2.4.0 in c:\\users\\dell\\appdata\\roaming\\python\\python312\\site-packages (from ipython>=7.23.1->ipykernel->jupyter->-r C:\\Users\\DELL\\Desktop\\Classification_Project\\requirement.txt (line 6)) (2.19.2)\n",
      "Requirement already satisfied: stack_data in c:\\users\\dell\\appdata\\roaming\\python\\python312\\site-packages (from ipython>=7.23.1->ipykernel->jupyter->-r C:\\Users\\DELL\\Desktop\\Classification_Project\\requirement.txt (line 6)) (0.6.3)\n",
      "Requirement already satisfied: wcwidth in c:\\users\\dell\\appdata\\roaming\\python\\python312\\site-packages (from prompt_toolkit<3.1.0,>=3.0.41->ipython>=7.23.1->ipykernel->jupyter->-r C:\\Users\\DELL\\Desktop\\Classification_Project\\requirement.txt (line 6)) (0.2.13)\n",
      "Requirement already satisfied: parso<0.9.0,>=0.8.4 in c:\\users\\dell\\appdata\\roaming\\python\\python312\\site-packages (from jedi>=0.16->ipython>=7.23.1->ipykernel->jupyter->-r C:\\Users\\DELL\\Desktop\\Classification_Project\\requirement.txt (line 6)) (0.8.4)\n",
      "Requirement already satisfied: platformdirs>=2.5 in c:\\users\\dell\\appdata\\roaming\\python\\python312\\site-packages (from jupyter-core!=5.0.*,>=4.12->ipykernel->jupyter->-r C:\\Users\\DELL\\Desktop\\Classification_Project\\requirement.txt (line 6)) (4.3.8)\n",
      "Requirement already satisfied: pywin32>=300 in c:\\users\\dell\\appdata\\roaming\\python\\python312\\site-packages (from jupyter-core!=5.0.*,>=4.12->ipykernel->jupyter->-r C:\\Users\\DELL\\Desktop\\Classification_Project\\requirement.txt (line 6)) (310)\n",
      "Collecting widgetsnbextension~=4.0.14 (from ipywidgets->jupyter->-r C:\\Users\\DELL\\Desktop\\Classification_Project\\requirement.txt (line 6))\n",
      "  Downloading widgetsnbextension-4.0.14-py3-none-any.whl.metadata (1.6 kB)\n",
      "Collecting jupyterlab_widgets~=3.0.15 (from ipywidgets->jupyter->-r C:\\Users\\DELL\\Desktop\\Classification_Project\\requirement.txt (line 6))\n",
      "  Downloading jupyterlab_widgets-3.0.15-py3-none-any.whl.metadata (20 kB)\n",
      "Collecting async-lru>=1.0.0 (from jupyterlab->jupyter->-r C:\\Users\\DELL\\Desktop\\Classification_Project\\requirement.txt (line 6))\n",
      "  Using cached async_lru-2.0.5-py3-none-any.whl.metadata (4.5 kB)\n",
      "Collecting httpx>=0.25.0 (from jupyterlab->jupyter->-r C:\\Users\\DELL\\Desktop\\Classification_Project\\requirement.txt (line 6))\n",
      "  Using cached httpx-0.28.1-py3-none-any.whl.metadata (7.1 kB)\n",
      "Collecting jinja2>=3.0.3 (from jupyterlab->jupyter->-r C:\\Users\\DELL\\Desktop\\Classification_Project\\requirement.txt (line 6))\n",
      "  Using cached jinja2-3.1.6-py3-none-any.whl.metadata (2.9 kB)\n",
      "Collecting jupyter-lsp>=2.0.0 (from jupyterlab->jupyter->-r C:\\Users\\DELL\\Desktop\\Classification_Project\\requirement.txt (line 6))\n",
      "  Downloading jupyter_lsp-2.2.6-py3-none-any.whl.metadata (1.8 kB)\n",
      "Collecting jupyter-server<3,>=2.4.0 (from jupyterlab->jupyter->-r C:\\Users\\DELL\\Desktop\\Classification_Project\\requirement.txt (line 6))\n",
      "  Downloading jupyter_server-2.16.0-py3-none-any.whl.metadata (8.5 kB)\n",
      "Collecting jupyterlab-server<3,>=2.27.1 (from jupyterlab->jupyter->-r C:\\Users\\DELL\\Desktop\\Classification_Project\\requirement.txt (line 6))\n",
      "  Using cached jupyterlab_server-2.27.3-py3-none-any.whl.metadata (5.9 kB)\n",
      "Collecting notebook-shim>=0.2 (from jupyterlab->jupyter->-r C:\\Users\\DELL\\Desktop\\Classification_Project\\requirement.txt (line 6))\n",
      "  Using cached notebook_shim-0.2.4-py3-none-any.whl.metadata (4.0 kB)\n",
      "Requirement already satisfied: setuptools>=41.1.0 in c:\\users\\dell\\desktop\\classification_project\\.conda\\lib\\site-packages (from jupyterlab->jupyter->-r C:\\Users\\DELL\\Desktop\\Classification_Project\\requirement.txt (line 6)) (78.1.1)\n",
      "Collecting anyio>=3.1.0 (from jupyter-server<3,>=2.4.0->jupyterlab->jupyter->-r C:\\Users\\DELL\\Desktop\\Classification_Project\\requirement.txt (line 6))\n",
      "  Using cached anyio-4.9.0-py3-none-any.whl.metadata (4.7 kB)\n",
      "Collecting argon2-cffi>=21.1 (from jupyter-server<3,>=2.4.0->jupyterlab->jupyter->-r C:\\Users\\DELL\\Desktop\\Classification_Project\\requirement.txt (line 6))\n",
      "  Downloading argon2_cffi-25.1.0-py3-none-any.whl.metadata (4.1 kB)\n",
      "Collecting jupyter-events>=0.11.0 (from jupyter-server<3,>=2.4.0->jupyterlab->jupyter->-r C:\\Users\\DELL\\Desktop\\Classification_Project\\requirement.txt (line 6))\n",
      "  Using cached jupyter_events-0.12.0-py3-none-any.whl.metadata (5.8 kB)\n",
      "Collecting jupyter-server-terminals>=0.4.4 (from jupyter-server<3,>=2.4.0->jupyterlab->jupyter->-r C:\\Users\\DELL\\Desktop\\Classification_Project\\requirement.txt (line 6))\n",
      "  Using cached jupyter_server_terminals-0.5.3-py3-none-any.whl.metadata (5.6 kB)\n",
      "Collecting nbformat>=5.3.0 (from jupyter-server<3,>=2.4.0->jupyterlab->jupyter->-r C:\\Users\\DELL\\Desktop\\Classification_Project\\requirement.txt (line 6))\n",
      "  Using cached nbformat-5.10.4-py3-none-any.whl.metadata (3.6 kB)\n",
      "Collecting overrides>=5.0 (from jupyter-server<3,>=2.4.0->jupyterlab->jupyter->-r C:\\Users\\DELL\\Desktop\\Classification_Project\\requirement.txt (line 6))\n",
      "  Using cached overrides-7.7.0-py3-none-any.whl.metadata (5.8 kB)\n",
      "Collecting prometheus-client>=0.9 (from jupyter-server<3,>=2.4.0->jupyterlab->jupyter->-r C:\\Users\\DELL\\Desktop\\Classification_Project\\requirement.txt (line 6))\n",
      "  Downloading prometheus_client-0.22.1-py3-none-any.whl.metadata (1.9 kB)\n",
      "Collecting pywinpty>=2.0.1 (from jupyter-server<3,>=2.4.0->jupyterlab->jupyter->-r C:\\Users\\DELL\\Desktop\\Classification_Project\\requirement.txt (line 6))\n",
      "  Downloading pywinpty-2.0.15-cp312-cp312-win_amd64.whl.metadata (5.2 kB)\n",
      "Collecting send2trash>=1.8.2 (from jupyter-server<3,>=2.4.0->jupyterlab->jupyter->-r C:\\Users\\DELL\\Desktop\\Classification_Project\\requirement.txt (line 6))\n",
      "  Using cached Send2Trash-1.8.3-py3-none-any.whl.metadata (4.0 kB)\n",
      "Collecting terminado>=0.8.3 (from jupyter-server<3,>=2.4.0->jupyterlab->jupyter->-r C:\\Users\\DELL\\Desktop\\Classification_Project\\requirement.txt (line 6))\n",
      "  Using cached terminado-0.18.1-py3-none-any.whl.metadata (5.8 kB)\n",
      "Collecting websocket-client>=1.7 (from jupyter-server<3,>=2.4.0->jupyterlab->jupyter->-r C:\\Users\\DELL\\Desktop\\Classification_Project\\requirement.txt (line 6))\n",
      "  Using cached websocket_client-1.8.0-py3-none-any.whl.metadata (8.0 kB)\n",
      "Collecting babel>=2.10 (from jupyterlab-server<3,>=2.27.1->jupyterlab->jupyter->-r C:\\Users\\DELL\\Desktop\\Classification_Project\\requirement.txt (line 6))\n",
      "  Using cached babel-2.17.0-py3-none-any.whl.metadata (2.0 kB)\n",
      "Collecting json5>=0.9.0 (from jupyterlab-server<3,>=2.27.1->jupyterlab->jupyter->-r C:\\Users\\DELL\\Desktop\\Classification_Project\\requirement.txt (line 6))\n",
      "  Using cached json5-0.12.0-py3-none-any.whl.metadata (36 kB)\n",
      "Collecting jsonschema>=4.18.0 (from jupyterlab-server<3,>=2.27.1->jupyterlab->jupyter->-r C:\\Users\\DELL\\Desktop\\Classification_Project\\requirement.txt (line 6))\n",
      "  Downloading jsonschema-4.25.0-py3-none-any.whl.metadata (7.7 kB)\n",
      "Collecting requests>=2.31 (from jupyterlab-server<3,>=2.27.1->jupyterlab->jupyter->-r C:\\Users\\DELL\\Desktop\\Classification_Project\\requirement.txt (line 6))\n",
      "  Downloading requests-2.32.4-py3-none-any.whl.metadata (4.9 kB)\n",
      "Collecting idna>=2.8 (from anyio>=3.1.0->jupyter-server<3,>=2.4.0->jupyterlab->jupyter->-r C:\\Users\\DELL\\Desktop\\Classification_Project\\requirement.txt (line 6))\n",
      "  Using cached idna-3.10-py3-none-any.whl.metadata (10 kB)\n",
      "Collecting sniffio>=1.1 (from anyio>=3.1.0->jupyter-server<3,>=2.4.0->jupyterlab->jupyter->-r C:\\Users\\DELL\\Desktop\\Classification_Project\\requirement.txt (line 6))\n",
      "  Using cached sniffio-1.3.1-py3-none-any.whl.metadata (3.9 kB)\n",
      "Collecting typing_extensions>=4.5 (from anyio>=3.1.0->jupyter-server<3,>=2.4.0->jupyterlab->jupyter->-r C:\\Users\\DELL\\Desktop\\Classification_Project\\requirement.txt (line 6))\n",
      "  Downloading typing_extensions-4.14.1-py3-none-any.whl.metadata (3.0 kB)\n",
      "Collecting argon2-cffi-bindings (from argon2-cffi>=21.1->jupyter-server<3,>=2.4.0->jupyterlab->jupyter->-r C:\\Users\\DELL\\Desktop\\Classification_Project\\requirement.txt (line 6))\n",
      "  Using cached argon2_cffi_bindings-21.2.0-cp36-abi3-win_amd64.whl.metadata (6.7 kB)\n",
      "Collecting certifi (from httpx>=0.25.0->jupyterlab->jupyter->-r C:\\Users\\DELL\\Desktop\\Classification_Project\\requirement.txt (line 6))\n",
      "  Downloading certifi-2025.7.14-py3-none-any.whl.metadata (2.4 kB)\n",
      "Collecting httpcore==1.* (from httpx>=0.25.0->jupyterlab->jupyter->-r C:\\Users\\DELL\\Desktop\\Classification_Project\\requirement.txt (line 6))\n",
      "  Downloading httpcore-1.0.9-py3-none-any.whl.metadata (21 kB)\n",
      "Collecting h11>=0.16 (from httpcore==1.*->httpx>=0.25.0->jupyterlab->jupyter->-r C:\\Users\\DELL\\Desktop\\Classification_Project\\requirement.txt (line 6))\n",
      "  Downloading h11-0.16.0-py3-none-any.whl.metadata (8.3 kB)\n",
      "Collecting MarkupSafe>=2.0 (from jinja2>=3.0.3->jupyterlab->jupyter->-r C:\\Users\\DELL\\Desktop\\Classification_Project\\requirement.txt (line 6))\n",
      "  Downloading MarkupSafe-3.0.2-cp312-cp312-win_amd64.whl.metadata (4.1 kB)\n",
      "Collecting attrs>=22.2.0 (from jsonschema>=4.18.0->jupyterlab-server<3,>=2.27.1->jupyterlab->jupyter->-r C:\\Users\\DELL\\Desktop\\Classification_Project\\requirement.txt (line 6))\n",
      "  Using cached attrs-25.3.0-py3-none-any.whl.metadata (10 kB)\n",
      "Collecting jsonschema-specifications>=2023.03.6 (from jsonschema>=4.18.0->jupyterlab-server<3,>=2.27.1->jupyterlab->jupyter->-r C:\\Users\\DELL\\Desktop\\Classification_Project\\requirement.txt (line 6))\n",
      "  Downloading jsonschema_specifications-2025.4.1-py3-none-any.whl.metadata (2.9 kB)\n",
      "Collecting referencing>=0.28.4 (from jsonschema>=4.18.0->jupyterlab-server<3,>=2.27.1->jupyterlab->jupyter->-r C:\\Users\\DELL\\Desktop\\Classification_Project\\requirement.txt (line 6))\n",
      "  Using cached referencing-0.36.2-py3-none-any.whl.metadata (2.8 kB)\n",
      "Collecting rpds-py>=0.7.1 (from jsonschema>=4.18.0->jupyterlab-server<3,>=2.27.1->jupyterlab->jupyter->-r C:\\Users\\DELL\\Desktop\\Classification_Project\\requirement.txt (line 6))\n",
      "  Downloading rpds_py-0.26.0-cp312-cp312-win_amd64.whl.metadata (4.3 kB)\n",
      "Collecting python-json-logger>=2.0.4 (from jupyter-events>=0.11.0->jupyter-server<3,>=2.4.0->jupyterlab->jupyter->-r C:\\Users\\DELL\\Desktop\\Classification_Project\\requirement.txt (line 6))\n",
      "  Using cached python_json_logger-3.3.0-py3-none-any.whl.metadata (4.0 kB)\n",
      "Collecting pyyaml>=5.3 (from jupyter-events>=0.11.0->jupyter-server<3,>=2.4.0->jupyterlab->jupyter->-r C:\\Users\\DELL\\Desktop\\Classification_Project\\requirement.txt (line 6))\n",
      "  Downloading PyYAML-6.0.2-cp312-cp312-win_amd64.whl.metadata (2.1 kB)\n",
      "Collecting rfc3339-validator (from jupyter-events>=0.11.0->jupyter-server<3,>=2.4.0->jupyterlab->jupyter->-r C:\\Users\\DELL\\Desktop\\Classification_Project\\requirement.txt (line 6))\n",
      "  Using cached rfc3339_validator-0.1.4-py2.py3-none-any.whl.metadata (1.5 kB)\n",
      "Collecting rfc3986-validator>=0.1.1 (from jupyter-events>=0.11.0->jupyter-server<3,>=2.4.0->jupyterlab->jupyter->-r C:\\Users\\DELL\\Desktop\\Classification_Project\\requirement.txt (line 6))\n",
      "  Using cached rfc3986_validator-0.1.1-py2.py3-none-any.whl.metadata (1.7 kB)\n",
      "Collecting fqdn (from jsonschema[format-nongpl]>=4.18.0->jupyter-events>=0.11.0->jupyter-server<3,>=2.4.0->jupyterlab->jupyter->-r C:\\Users\\DELL\\Desktop\\Classification_Project\\requirement.txt (line 6))\n",
      "  Using cached fqdn-1.5.1-py3-none-any.whl.metadata (1.4 kB)\n",
      "Collecting isoduration (from jsonschema[format-nongpl]>=4.18.0->jupyter-events>=0.11.0->jupyter-server<3,>=2.4.0->jupyterlab->jupyter->-r C:\\Users\\DELL\\Desktop\\Classification_Project\\requirement.txt (line 6))\n",
      "  Using cached isoduration-20.11.0-py3-none-any.whl.metadata (5.7 kB)\n",
      "Collecting jsonpointer>1.13 (from jsonschema[format-nongpl]>=4.18.0->jupyter-events>=0.11.0->jupyter-server<3,>=2.4.0->jupyterlab->jupyter->-r C:\\Users\\DELL\\Desktop\\Classification_Project\\requirement.txt (line 6))\n",
      "  Using cached jsonpointer-3.0.0-py2.py3-none-any.whl.metadata (2.3 kB)\n",
      "Collecting rfc3987-syntax>=1.1.0 (from jsonschema[format-nongpl]>=4.18.0->jupyter-events>=0.11.0->jupyter-server<3,>=2.4.0->jupyterlab->jupyter->-r C:\\Users\\DELL\\Desktop\\Classification_Project\\requirement.txt (line 6))\n",
      "  Downloading rfc3987_syntax-1.1.0-py3-none-any.whl.metadata (7.7 kB)\n",
      "Collecting uri-template (from jsonschema[format-nongpl]>=4.18.0->jupyter-events>=0.11.0->jupyter-server<3,>=2.4.0->jupyterlab->jupyter->-r C:\\Users\\DELL\\Desktop\\Classification_Project\\requirement.txt (line 6))\n",
      "  Using cached uri_template-1.3.0-py3-none-any.whl.metadata (8.8 kB)\n",
      "Collecting webcolors>=24.6.0 (from jsonschema[format-nongpl]>=4.18.0->jupyter-events>=0.11.0->jupyter-server<3,>=2.4.0->jupyterlab->jupyter->-r C:\\Users\\DELL\\Desktop\\Classification_Project\\requirement.txt (line 6))\n",
      "  Using cached webcolors-24.11.1-py3-none-any.whl.metadata (2.2 kB)\n",
      "Collecting beautifulsoup4 (from nbconvert->jupyter->-r C:\\Users\\DELL\\Desktop\\Classification_Project\\requirement.txt (line 6))\n",
      "  Downloading beautifulsoup4-4.13.4-py3-none-any.whl.metadata (3.8 kB)\n",
      "Collecting bleach!=5.0.0 (from bleach[css]!=5.0.0->nbconvert->jupyter->-r C:\\Users\\DELL\\Desktop\\Classification_Project\\requirement.txt (line 6))\n",
      "  Using cached bleach-6.2.0-py3-none-any.whl.metadata (30 kB)\n",
      "Collecting defusedxml (from nbconvert->jupyter->-r C:\\Users\\DELL\\Desktop\\Classification_Project\\requirement.txt (line 6))\n",
      "  Using cached defusedxml-0.7.1-py2.py3-none-any.whl.metadata (32 kB)\n",
      "Collecting jupyterlab-pygments (from nbconvert->jupyter->-r C:\\Users\\DELL\\Desktop\\Classification_Project\\requirement.txt (line 6))\n",
      "  Using cached jupyterlab_pygments-0.3.0-py3-none-any.whl.metadata (4.4 kB)\n",
      "Collecting mistune<4,>=2.0.3 (from nbconvert->jupyter->-r C:\\Users\\DELL\\Desktop\\Classification_Project\\requirement.txt (line 6))\n",
      "  Using cached mistune-3.1.3-py3-none-any.whl.metadata (1.8 kB)\n",
      "Collecting nbclient>=0.5.0 (from nbconvert->jupyter->-r C:\\Users\\DELL\\Desktop\\Classification_Project\\requirement.txt (line 6))\n",
      "  Using cached nbclient-0.10.2-py3-none-any.whl.metadata (8.3 kB)\n",
      "Collecting pandocfilters>=1.4.1 (from nbconvert->jupyter->-r C:\\Users\\DELL\\Desktop\\Classification_Project\\requirement.txt (line 6))\n",
      "  Using cached pandocfilters-1.5.1-py2.py3-none-any.whl.metadata (9.0 kB)\n",
      "Collecting webencodings (from bleach!=5.0.0->bleach[css]!=5.0.0->nbconvert->jupyter->-r C:\\Users\\DELL\\Desktop\\Classification_Project\\requirement.txt (line 6))\n",
      "  Using cached webencodings-0.5.1-py2.py3-none-any.whl.metadata (2.1 kB)\n",
      "Collecting tinycss2<1.5,>=1.1.0 (from bleach[css]!=5.0.0->nbconvert->jupyter->-r C:\\Users\\DELL\\Desktop\\Classification_Project\\requirement.txt (line 6))\n",
      "  Using cached tinycss2-1.4.0-py3-none-any.whl.metadata (3.0 kB)\n",
      "Collecting fastjsonschema>=2.15 (from nbformat>=5.3.0->jupyter-server<3,>=2.4.0->jupyterlab->jupyter->-r C:\\Users\\DELL\\Desktop\\Classification_Project\\requirement.txt (line 6))\n",
      "  Using cached fastjsonschema-2.21.1-py3-none-any.whl.metadata (2.2 kB)\n",
      "Collecting charset_normalizer<4,>=2 (from requests>=2.31->jupyterlab-server<3,>=2.27.1->jupyterlab->jupyter->-r C:\\Users\\DELL\\Desktop\\Classification_Project\\requirement.txt (line 6))\n",
      "  Downloading charset_normalizer-3.4.2-cp312-cp312-win_amd64.whl.metadata (36 kB)\n",
      "Collecting urllib3<3,>=1.21.1 (from requests>=2.31->jupyterlab-server<3,>=2.27.1->jupyterlab->jupyter->-r C:\\Users\\DELL\\Desktop\\Classification_Project\\requirement.txt (line 6))\n",
      "  Downloading urllib3-2.5.0-py3-none-any.whl.metadata (6.5 kB)\n",
      "Collecting lark>=1.2.2 (from rfc3987-syntax>=1.1.0->jsonschema[format-nongpl]>=4.18.0->jupyter-events>=0.11.0->jupyter-server<3,>=2.4.0->jupyterlab->jupyter->-r C:\\Users\\DELL\\Desktop\\Classification_Project\\requirement.txt (line 6))\n",
      "  Downloading lark-1.2.2-py3-none-any.whl.metadata (1.8 kB)\n",
      "Collecting cffi>=1.0.1 (from argon2-cffi-bindings->argon2-cffi>=21.1->jupyter-server<3,>=2.4.0->jupyterlab->jupyter->-r C:\\Users\\DELL\\Desktop\\Classification_Project\\requirement.txt (line 6))\n",
      "  Downloading cffi-1.17.1-cp312-cp312-win_amd64.whl.metadata (1.6 kB)\n",
      "Collecting pycparser (from cffi>=1.0.1->argon2-cffi-bindings->argon2-cffi>=21.1->jupyter-server<3,>=2.4.0->jupyterlab->jupyter->-r C:\\Users\\DELL\\Desktop\\Classification_Project\\requirement.txt (line 6))\n",
      "  Using cached pycparser-2.22-py3-none-any.whl.metadata (943 bytes)\n",
      "Collecting soupsieve>1.2 (from beautifulsoup4->nbconvert->jupyter->-r C:\\Users\\DELL\\Desktop\\Classification_Project\\requirement.txt (line 6))\n",
      "  Downloading soupsieve-2.7-py3-none-any.whl.metadata (4.6 kB)\n",
      "Collecting arrow>=0.15.0 (from isoduration->jsonschema[format-nongpl]>=4.18.0->jupyter-events>=0.11.0->jupyter-server<3,>=2.4.0->jupyterlab->jupyter->-r C:\\Users\\DELL\\Desktop\\Classification_Project\\requirement.txt (line 6))\n",
      "  Using cached arrow-1.3.0-py3-none-any.whl.metadata (7.5 kB)\n",
      "Collecting types-python-dateutil>=2.8.10 (from arrow>=0.15.0->isoduration->jsonschema[format-nongpl]>=4.18.0->jupyter-events>=0.11.0->jupyter-server<3,>=2.4.0->jupyterlab->jupyter->-r C:\\Users\\DELL\\Desktop\\Classification_Project\\requirement.txt (line 6))\n",
      "  Downloading types_python_dateutil-2.9.0.20250708-py3-none-any.whl.metadata (1.9 kB)\n",
      "Requirement already satisfied: executing>=1.2.0 in c:\\users\\dell\\appdata\\roaming\\python\\python312\\site-packages (from stack_data->ipython>=7.23.1->ipykernel->jupyter->-r C:\\Users\\DELL\\Desktop\\Classification_Project\\requirement.txt (line 6)) (2.2.0)\n",
      "Requirement already satisfied: asttokens>=2.1.0 in c:\\users\\dell\\appdata\\roaming\\python\\python312\\site-packages (from stack_data->ipython>=7.23.1->ipykernel->jupyter->-r C:\\Users\\DELL\\Desktop\\Classification_Project\\requirement.txt (line 6)) (3.0.0)\n",
      "Requirement already satisfied: pure-eval in c:\\users\\dell\\appdata\\roaming\\python\\python312\\site-packages (from stack_data->ipython>=7.23.1->ipykernel->jupyter->-r C:\\Users\\DELL\\Desktop\\Classification_Project\\requirement.txt (line 6)) (0.2.3)\n",
      "Using cached numpy-2.3.2-cp312-cp312-win_amd64.whl (12.8 MB)\n",
      "Using cached pandas-2.3.1-cp312-cp312-win_amd64.whl (11.0 MB)\n",
      "Using cached scikit_learn-1.7.1-cp312-cp312-win_amd64.whl (8.7 MB)\n",
      "Using cached matplotlib-3.10.3-cp312-cp312-win_amd64.whl (8.1 MB)\n",
      "Using cached seaborn-0.13.2-py3-none-any.whl (294 kB)\n",
      "Downloading jupyter-1.1.1-py2.py3-none-any.whl (2.7 kB)\n",
      "Downloading contourpy-1.3.3-cp312-cp312-win_amd64.whl (226 kB)\n",
      "Using cached cycler-0.12.1-py3-none-any.whl (8.3 kB)\n",
      "Using cached fonttools-4.59.0-cp312-cp312-win_amd64.whl (2.2 MB)\n",
      "Using cached joblib-1.5.1-py3-none-any.whl (307 kB)\n",
      "Using cached kiwisolver-1.4.8-cp312-cp312-win_amd64.whl (71 kB)\n",
      "Using cached pillow-11.3.0-cp312-cp312-win_amd64.whl (7.0 MB)\n",
      "Using cached pyparsing-3.2.3-py3-none-any.whl (111 kB)\n",
      "Using cached pytz-2025.2-py2.py3-none-any.whl (509 kB)\n",
      "Using cached scipy-1.16.0-cp312-cp312-win_amd64.whl (38.4 MB)\n",
      "Using cached threadpoolctl-3.6.0-py3-none-any.whl (18 kB)\n",
      "Using cached tzdata-2025.2-py2.py3-none-any.whl (347 kB)\n",
      "Downloading ipywidgets-8.1.7-py3-none-any.whl (139 kB)\n",
      "Downloading jupyterlab_widgets-3.0.15-py3-none-any.whl (216 kB)\n",
      "Downloading widgetsnbextension-4.0.14-py3-none-any.whl (2.2 MB)\n",
      "   ---------------------------------------- 0.0/2.2 MB ? eta -:--:--\n",
      "   ------------------- -------------------- 1.0/2.2 MB 5.6 MB/s eta 0:00:01\n",
      "   ---------------------------------------- 2.2/2.2 MB 5.4 MB/s eta 0:00:00\n",
      "Downloading jupyter_console-6.6.3-py3-none-any.whl (24 kB)\n",
      "Downloading jupyterlab-4.4.5-py3-none-any.whl (12.3 MB)\n",
      "   ---------------------------------------- 0.0/12.3 MB ? eta -:--:--\n",
      "   -- ------------------------------------- 0.8/12.3 MB 5.6 MB/s eta 0:00:03\n",
      "   ----- ---------------------------------- 1.6/12.3 MB 4.7 MB/s eta 0:00:03\n",
      "   ------ --------------------------------- 2.1/12.3 MB 4.2 MB/s eta 0:00:03\n",
      "   ---------- ----------------------------- 3.1/12.3 MB 3.9 MB/s eta 0:00:03\n",
      "   ----------- ---------------------------- 3.7/12.3 MB 3.8 MB/s eta 0:00:03\n",
      "   -------------- ------------------------- 4.5/12.3 MB 3.8 MB/s eta 0:00:03\n",
      "   ----------------- ---------------------- 5.2/12.3 MB 3.8 MB/s eta 0:00:02\n",
      "   ------------------- -------------------- 6.0/12.3 MB 3.7 MB/s eta 0:00:02\n",
      "   --------------------- ------------------ 6.6/12.3 MB 3.6 MB/s eta 0:00:02\n",
      "   ----------------------- ---------------- 7.1/12.3 MB 3.6 MB/s eta 0:00:02\n",
      "   ------------------------- -------------- 7.9/12.3 MB 3.5 MB/s eta 0:00:02\n",
      "   --------------------------- ------------ 8.4/12.3 MB 3.4 MB/s eta 0:00:02\n",
      "   ---------------------------- ----------- 8.7/12.3 MB 3.4 MB/s eta 0:00:02\n",
      "   ----------------------------- ---------- 9.2/12.3 MB 3.2 MB/s eta 0:00:01\n",
      "   ------------------------------- -------- 9.7/12.3 MB 3.1 MB/s eta 0:00:01\n",
      "   -------------------------------- ------- 10.0/12.3 MB 3.0 MB/s eta 0:00:01\n",
      "   --------------------------------- ------ 10.2/12.3 MB 2.9 MB/s eta 0:00:01\n",
      "   ---------------------------------- ----- 10.5/12.3 MB 2.9 MB/s eta 0:00:01\n",
      "   ----------------------------------- ---- 11.0/12.3 MB 2.8 MB/s eta 0:00:01\n",
      "   ------------------------------------ --- 11.3/12.3 MB 2.8 MB/s eta 0:00:01\n",
      "   -------------------------------------- - 11.8/12.3 MB 2.7 MB/s eta 0:00:01\n",
      "   ---------------------------------------  12.1/12.3 MB 2.7 MB/s eta 0:00:01\n",
      "   ---------------------------------------- 12.3/12.3 MB 2.6 MB/s eta 0:00:00\n",
      "Downloading jupyter_server-2.16.0-py3-none-any.whl (386 kB)\n",
      "Using cached jupyterlab_server-2.27.3-py3-none-any.whl (59 kB)\n",
      "Using cached anyio-4.9.0-py3-none-any.whl (100 kB)\n",
      "Downloading argon2_cffi-25.1.0-py3-none-any.whl (14 kB)\n",
      "Using cached async_lru-2.0.5-py3-none-any.whl (6.1 kB)\n",
      "Using cached babel-2.17.0-py3-none-any.whl (10.2 MB)\n",
      "Using cached httpx-0.28.1-py3-none-any.whl (73 kB)\n",
      "Downloading httpcore-1.0.9-py3-none-any.whl (78 kB)\n",
      "Downloading h11-0.16.0-py3-none-any.whl (37 kB)\n",
      "Using cached idna-3.10-py3-none-any.whl (70 kB)\n",
      "Using cached jinja2-3.1.6-py3-none-any.whl (134 kB)\n",
      "Using cached json5-0.12.0-py3-none-any.whl (36 kB)\n",
      "Downloading jsonschema-4.25.0-py3-none-any.whl (89 kB)\n",
      "Using cached attrs-25.3.0-py3-none-any.whl (63 kB)\n",
      "Downloading jsonschema_specifications-2025.4.1-py3-none-any.whl (18 kB)\n",
      "Using cached jupyter_events-0.12.0-py3-none-any.whl (19 kB)\n",
      "Using cached jsonpointer-3.0.0-py2.py3-none-any.whl (7.6 kB)\n",
      "Downloading jupyter_lsp-2.2.6-py3-none-any.whl (69 kB)\n",
      "Using cached jupyter_server_terminals-0.5.3-py3-none-any.whl (13 kB)\n",
      "Downloading MarkupSafe-3.0.2-cp312-cp312-win_amd64.whl (15 kB)\n",
      "Using cached nbconvert-7.16.6-py3-none-any.whl (258 kB)\n",
      "Using cached mistune-3.1.3-py3-none-any.whl (53 kB)\n",
      "Using cached bleach-6.2.0-py3-none-any.whl (163 kB)\n",
      "Using cached tinycss2-1.4.0-py3-none-any.whl (26 kB)\n",
      "Using cached nbclient-0.10.2-py3-none-any.whl (25 kB)\n",
      "Using cached nbformat-5.10.4-py3-none-any.whl (78 kB)\n",
      "Using cached fastjsonschema-2.21.1-py3-none-any.whl (23 kB)\n",
      "Using cached notebook_shim-0.2.4-py3-none-any.whl (13 kB)\n",
      "Using cached overrides-7.7.0-py3-none-any.whl (17 kB)\n",
      "Using cached pandocfilters-1.5.1-py2.py3-none-any.whl (8.7 kB)\n",
      "Downloading prometheus_client-0.22.1-py3-none-any.whl (58 kB)\n",
      "Using cached python_json_logger-3.3.0-py3-none-any.whl (15 kB)\n",
      "Downloading pywinpty-2.0.15-cp312-cp312-win_amd64.whl (1.4 MB)\n",
      "   ---------------------------------------- 0.0/1.4 MB ? eta -:--:--\n",
      "   ------- -------------------------------- 0.3/1.4 MB ? eta -:--:--\n",
      "   -------------- ------------------------- 0.5/1.4 MB 1.5 MB/s eta 0:00:01\n",
      "   ---------------------- ----------------- 0.8/1.4 MB 1.6 MB/s eta 0:00:01\n",
      "   ---------------------------------------- 1.4/1.4 MB 1.8 MB/s eta 0:00:00\n",
      "Downloading PyYAML-6.0.2-cp312-cp312-win_amd64.whl (156 kB)\n",
      "Using cached referencing-0.36.2-py3-none-any.whl (26 kB)\n",
      "Downloading requests-2.32.4-py3-none-any.whl (64 kB)\n",
      "Downloading charset_normalizer-3.4.2-cp312-cp312-win_amd64.whl (105 kB)\n",
      "Downloading urllib3-2.5.0-py3-none-any.whl (129 kB)\n",
      "Downloading certifi-2025.7.14-py3-none-any.whl (162 kB)\n",
      "Using cached rfc3986_validator-0.1.1-py2.py3-none-any.whl (4.2 kB)\n",
      "Downloading rfc3987_syntax-1.1.0-py3-none-any.whl (8.0 kB)\n",
      "Downloading lark-1.2.2-py3-none-any.whl (111 kB)\n",
      "Downloading rpds_py-0.26.0-cp312-cp312-win_amd64.whl (234 kB)\n",
      "Using cached Send2Trash-1.8.3-py3-none-any.whl (18 kB)\n",
      "Using cached sniffio-1.3.1-py3-none-any.whl (10 kB)\n",
      "Using cached terminado-0.18.1-py3-none-any.whl (14 kB)\n",
      "Downloading typing_extensions-4.14.1-py3-none-any.whl (43 kB)\n",
      "Using cached webcolors-24.11.1-py3-none-any.whl (14 kB)\n",
      "Using cached webencodings-0.5.1-py2.py3-none-any.whl (11 kB)\n",
      "Using cached websocket_client-1.8.0-py3-none-any.whl (58 kB)\n",
      "Using cached argon2_cffi_bindings-21.2.0-cp36-abi3-win_amd64.whl (30 kB)\n",
      "Downloading cffi-1.17.1-cp312-cp312-win_amd64.whl (181 kB)\n",
      "Downloading beautifulsoup4-4.13.4-py3-none-any.whl (187 kB)\n",
      "Downloading soupsieve-2.7-py3-none-any.whl (36 kB)\n",
      "Using cached defusedxml-0.7.1-py2.py3-none-any.whl (25 kB)\n",
      "Using cached fqdn-1.5.1-py3-none-any.whl (9.1 kB)\n",
      "Using cached isoduration-20.11.0-py3-none-any.whl (11 kB)\n",
      "Using cached arrow-1.3.0-py3-none-any.whl (66 kB)\n",
      "Downloading types_python_dateutil-2.9.0.20250708-py3-none-any.whl (17 kB)\n",
      "Using cached jupyterlab_pygments-0.3.0-py3-none-any.whl (15 kB)\n",
      "Downloading notebook-7.4.4-py3-none-any.whl (14.3 MB)\n",
      "   ---------------------------------------- 0.0/14.3 MB ? eta -:--:--\n",
      "    --------------------------------------- 0.3/14.3 MB ? eta -:--:--\n",
      "   - -------------------------------------- 0.5/14.3 MB 2.1 MB/s eta 0:00:07\n",
      "   -- ------------------------------------- 1.0/14.3 MB 1.9 MB/s eta 0:00:07\n",
      "   ---- ----------------------------------- 1.6/14.3 MB 2.1 MB/s eta 0:00:07\n",
      "   ----- ---------------------------------- 2.1/14.3 MB 2.2 MB/s eta 0:00:06\n",
      "   ------- -------------------------------- 2.6/14.3 MB 2.3 MB/s eta 0:00:06\n",
      "   -------- ------------------------------- 3.1/14.3 MB 2.4 MB/s eta 0:00:05\n",
      "   ---------- ----------------------------- 3.7/14.3 MB 2.5 MB/s eta 0:00:05\n",
      "   ----------- ---------------------------- 4.2/14.3 MB 2.5 MB/s eta 0:00:05\n",
      "   ------------- -------------------------- 5.0/14.3 MB 2.5 MB/s eta 0:00:04\n",
      "   --------------- ------------------------ 5.5/14.3 MB 2.6 MB/s eta 0:00:04\n",
      "   ----------------- ---------------------- 6.3/14.3 MB 2.7 MB/s eta 0:00:04\n",
      "   ------------------ --------------------- 6.6/14.3 MB 2.6 MB/s eta 0:00:03\n",
      "   -------------------- ------------------- 7.3/14.3 MB 2.6 MB/s eta 0:00:03\n",
      "   ---------------------- ----------------- 8.1/14.3 MB 2.7 MB/s eta 0:00:03\n",
      "   ------------------------ --------------- 8.7/14.3 MB 2.8 MB/s eta 0:00:03\n",
      "   -------------------------- ------------- 9.4/14.3 MB 2.8 MB/s eta 0:00:02\n",
      "   ----------------------------- ---------- 10.5/14.3 MB 2.9 MB/s eta 0:00:02\n",
      "   ------------------------------ --------- 11.0/14.3 MB 2.9 MB/s eta 0:00:02\n",
      "   --------------------------------- ------ 11.8/14.3 MB 3.0 MB/s eta 0:00:01\n",
      "   --------------------------------- ------ 12.1/14.3 MB 2.9 MB/s eta 0:00:01\n",
      "   --------------------------------- ------ 12.1/14.3 MB 2.9 MB/s eta 0:00:01\n",
      "   ---------------------------------- ----- 12.3/14.3 MB 2.7 MB/s eta 0:00:01\n",
      "   ----------------------------------- ---- 12.6/14.3 MB 2.6 MB/s eta 0:00:01\n",
      "   ----------------------------------- ---- 12.8/14.3 MB 2.6 MB/s eta 0:00:01\n",
      "   ------------------------------------- -- 13.4/14.3 MB 2.6 MB/s eta 0:00:01\n",
      "   -------------------------------------- - 13.9/14.3 MB 2.5 MB/s eta 0:00:01\n",
      "   ---------------------------------------- 14.3/14.3 MB 2.5 MB/s eta 0:00:00\n",
      "Using cached pycparser-2.22-py3-none-any.whl (117 kB)\n",
      "Using cached rfc3339_validator-0.1.4-py2.py3-none-any.whl (3.5 kB)\n",
      "Using cached uri_template-1.3.0-py3-none-any.whl (11 kB)\n",
      "Installing collected packages: webencodings, pytz, fastjsonschema, widgetsnbextension, websocket-client, webcolors, urllib3, uri-template, tzdata, typing_extensions, types-python-dateutil, tinycss2, threadpoolctl, soupsieve, sniffio, send2trash, rpds-py, rfc3986-validator, rfc3339-validator, pyyaml, pywinpty, python-json-logger, pyparsing, pycparser, prometheus-client, pillow, pandocfilters, overrides, numpy, mistune, MarkupSafe, lark, kiwisolver, jupyterlab_widgets, jupyterlab-pygments, jsonpointer, json5, joblib, idna, h11, fqdn, fonttools, defusedxml, cycler, charset_normalizer, certifi, bleach, babel, attrs, async-lru, terminado, scipy, rfc3987-syntax, requests, referencing, pandas, jinja2, httpcore, contourpy, cffi, beautifulsoup4, arrow, anyio, scikit-learn, matplotlib, jupyter-server-terminals, jsonschema-specifications, isoduration, ipywidgets, httpx, argon2-cffi-bindings, seaborn, jupyter-console, jsonschema, argon2-cffi, nbformat, nbclient, jupyter-events, nbconvert, jupyter-server, notebook-shim, jupyterlab-server, jupyter-lsp, jupyterlab, notebook, jupyter\n",
      "\n",
      "   ----------------------------------------  1/86 [pytz]\n",
      "   ----------------------------------------  1/86 [pytz]\n",
      "   - --------------------------------------  4/86 [websocket-client]\n",
      "   -- -------------------------------------  6/86 [urllib3]\n",
      "   --- ------------------------------------  8/86 [tzdata]\n",
      "   --- ------------------------------------  8/86 [tzdata]\n",
      "   ------ --------------------------------- 13/86 [soupsieve]\n",
      "   -------- ------------------------------- 19/86 [pyyaml]\n",
      "   ---------- ----------------------------- 22/86 [pyparsing]\n",
      "   ---------- ----------------------------- 23/86 [pycparser]\n",
      "   ----------- ---------------------------- 25/86 [pillow]\n",
      "   ----------- ---------------------------- 25/86 [pillow]\n",
      "   ----------- ---------------------------- 25/86 [pillow]\n",
      "   ------------- -------------------------- 28/86 [numpy]\n",
      "   ------------- -------------------------- 28/86 [numpy]\n",
      "   ------------- -------------------------- 28/86 [numpy]\n",
      "   ------------- -------------------------- 28/86 [numpy]\n",
      "   ------------- -------------------------- 28/86 [numpy]\n",
      "   ------------- -------------------------- 28/86 [numpy]\n",
      "   ------------- -------------------------- 28/86 [numpy]\n",
      "   ------------- -------------------------- 28/86 [numpy]\n",
      "   ------------- -------------------------- 28/86 [numpy]\n",
      "   ------------- -------------------------- 28/86 [numpy]\n",
      "   ------------- -------------------------- 28/86 [numpy]\n",
      "   ------------- -------------------------- 28/86 [numpy]\n",
      "   ------------- -------------------------- 28/86 [numpy]\n",
      "   ------------- -------------------------- 28/86 [numpy]\n",
      "   ------------- -------------------------- 28/86 [numpy]\n",
      "   ------------- -------------------------- 28/86 [numpy]\n",
      "   ------------- -------------------------- 28/86 [numpy]\n",
      "   ------------- -------------------------- 28/86 [numpy]\n",
      "   ------------- -------------------------- 28/86 [numpy]\n",
      "   -------------- ------------------------- 31/86 [lark]\n",
      "   --------------- ------------------------ 34/86 [jupyterlab-pygments]\n",
      "   ----------------- ---------------------- 37/86 [joblib]\n",
      "   ----------------- ---------------------- 38/86 [idna]\n",
      "   ------------------ --------------------- 40/86 [fqdn]\n",
      "   ------------------- -------------------- 41/86 [fonttools]\n",
      "   ------------------- -------------------- 41/86 [fonttools]\n",
      "   ------------------- -------------------- 41/86 [fonttools]\n",
      "   ------------------- -------------------- 41/86 [fonttools]\n",
      "   ------------------- -------------------- 41/86 [fonttools]\n",
      "   ------------------- -------------------- 41/86 [fonttools]\n",
      "   ------------------- -------------------- 41/86 [fonttools]\n",
      "   ------------------- -------------------- 41/86 [fonttools]\n",
      "   -------------------- ------------------- 44/86 [charset_normalizer]\n",
      "   --------------------- ------------------ 46/86 [bleach]\n",
      "   --------------------- ------------------ 47/86 [babel]\n",
      "   --------------------- ------------------ 47/86 [babel]\n",
      "   --------------------- ------------------ 47/86 [babel]\n",
      "   --------------------- ------------------ 47/86 [babel]\n",
      "   --------------------- ------------------ 47/86 [babel]\n",
      "   ----------------------- ---------------- 50/86 [terminado]\n",
      "   ----------------------- ---------------- 51/86 [scipy]\n",
      "   ----------------------- ---------------- 51/86 [scipy]\n",
      "   ----------------------- ---------------- 51/86 [scipy]\n",
      "   ----------------------- ---------------- 51/86 [scipy]\n",
      "   ----------------------- ---------------- 51/86 [scipy]\n",
      "   ----------------------- ---------------- 51/86 [scipy]\n",
      "   ----------------------- ---------------- 51/86 [scipy]\n",
      "   ----------------------- ---------------- 51/86 [scipy]\n",
      "   ----------------------- ---------------- 51/86 [scipy]\n",
      "   ----------------------- ---------------- 51/86 [scipy]\n",
      "   ----------------------- ---------------- 51/86 [scipy]\n",
      "   ----------------------- ---------------- 51/86 [scipy]\n",
      "   ----------------------- ---------------- 51/86 [scipy]\n",
      "   ----------------------- ---------------- 51/86 [scipy]\n",
      "   ----------------------- ---------------- 51/86 [scipy]\n",
      "   ----------------------- ---------------- 51/86 [scipy]\n",
      "   ----------------------- ---------------- 51/86 [scipy]\n",
      "   ----------------------- ---------------- 51/86 [scipy]\n",
      "   ----------------------- ---------------- 51/86 [scipy]\n",
      "   ----------------------- ---------------- 51/86 [scipy]\n",
      "   ----------------------- ---------------- 51/86 [scipy]\n",
      "   ----------------------- ---------------- 51/86 [scipy]\n",
      "   ----------------------- ---------------- 51/86 [scipy]\n",
      "   ----------------------- ---------------- 51/86 [scipy]\n",
      "   ----------------------- ---------------- 51/86 [scipy]\n",
      "   ----------------------- ---------------- 51/86 [scipy]\n",
      "   ----------------------- ---------------- 51/86 [scipy]\n",
      "   ----------------------- ---------------- 51/86 [scipy]\n",
      "   ----------------------- ---------------- 51/86 [scipy]\n",
      "   ----------------------- ---------------- 51/86 [scipy]\n",
      "   ----------------------- ---------------- 51/86 [scipy]\n",
      "   ----------------------- ---------------- 51/86 [scipy]\n",
      "   ----------------------- ---------------- 51/86 [scipy]\n",
      "   ----------------------- ---------------- 51/86 [scipy]\n",
      "   ----------------------- ---------------- 51/86 [scipy]\n",
      "   ----------------------- ---------------- 51/86 [scipy]\n",
      "   ----------------------- ---------------- 51/86 [scipy]\n",
      "   ----------------------- ---------------- 51/86 [scipy]\n",
      "   ----------------------- ---------------- 51/86 [scipy]\n",
      "   ----------------------- ---------------- 51/86 [scipy]\n",
      "   ------------------------ --------------- 53/86 [requests]\n",
      "   ------------------------- -------------- 55/86 [pandas]\n",
      "   ------------------------- -------------- 55/86 [pandas]\n",
      "   ------------------------- -------------- 55/86 [pandas]\n",
      "   ------------------------- -------------- 55/86 [pandas]\n",
      "   ------------------------- -------------- 55/86 [pandas]\n",
      "   ------------------------- -------------- 55/86 [pandas]\n",
      "   ------------------------- -------------- 55/86 [pandas]\n",
      "   ------------------------- -------------- 55/86 [pandas]\n",
      "   ------------------------- -------------- 55/86 [pandas]\n",
      "   ------------------------- -------------- 55/86 [pandas]\n",
      "   ------------------------- -------------- 55/86 [pandas]\n",
      "   ------------------------- -------------- 55/86 [pandas]\n",
      "   ------------------------- -------------- 55/86 [pandas]\n",
      "   ------------------------- -------------- 55/86 [pandas]\n",
      "   ------------------------- -------------- 55/86 [pandas]\n",
      "   ------------------------- -------------- 55/86 [pandas]\n",
      "   ------------------------- -------------- 55/86 [pandas]\n",
      "   ------------------------- -------------- 55/86 [pandas]\n",
      "   ------------------------- -------------- 55/86 [pandas]\n",
      "   ------------------------- -------------- 55/86 [pandas]\n",
      "   ------------------------- -------------- 55/86 [pandas]\n",
      "   ------------------------- -------------- 55/86 [pandas]\n",
      "   ------------------------- -------------- 55/86 [pandas]\n",
      "   ------------------------- -------------- 55/86 [pandas]\n",
      "   ------------------------- -------------- 55/86 [pandas]\n",
      "   ------------------------- -------------- 55/86 [pandas]\n",
      "   ------------------------- -------------- 55/86 [pandas]\n",
      "   ------------------------- -------------- 55/86 [pandas]\n",
      "   ------------------------- -------------- 55/86 [pandas]\n",
      "   ------------------------- -------------- 55/86 [pandas]\n",
      "   ------------------------- -------------- 55/86 [pandas]\n",
      "   ------------------------- -------------- 55/86 [pandas]\n",
      "   ------------------------- -------------- 55/86 [pandas]\n",
      "   ------------------------- -------------- 55/86 [pandas]\n",
      "   ------------------------- -------------- 55/86 [pandas]\n",
      "   ------------------------- -------------- 55/86 [pandas]\n",
      "   ------------------------- -------------- 55/86 [pandas]\n",
      "   ------------------------- -------------- 55/86 [pandas]\n",
      "   ------------------------- -------------- 55/86 [pandas]\n",
      "   ------------------------- -------------- 55/86 [pandas]\n",
      "   ------------------------- -------------- 55/86 [pandas]\n",
      "   ------------------------- -------------- 55/86 [pandas]\n",
      "   ------------------------- -------------- 55/86 [pandas]\n",
      "   ------------------------- -------------- 55/86 [pandas]\n",
      "   ------------------------- -------------- 55/86 [pandas]\n",
      "   ------------------------- -------------- 55/86 [pandas]\n",
      "   ------------------------- -------------- 55/86 [pandas]\n",
      "   -------------------------- ------------- 56/86 [jinja2]\n",
      "   -------------------------- ------------- 57/86 [httpcore]\n",
      "   --------------------------- ------------ 59/86 [cffi]\n",
      "   --------------------------- ------------ 60/86 [beautifulsoup4]\n",
      "   ---------------------------- ----------- 61/86 [arrow]\n",
      "   ---------------------------- ----------- 62/86 [anyio]\n",
      "   ----------------------------- ---------- 63/86 [scikit-learn]\n",
      "   ----------------------------- ---------- 63/86 [scikit-learn]\n",
      "   ----------------------------- ---------- 63/86 [scikit-learn]\n",
      "   ----------------------------- ---------- 63/86 [scikit-learn]\n",
      "   ----------------------------- ---------- 63/86 [scikit-learn]\n",
      "   ----------------------------- ---------- 63/86 [scikit-learn]\n",
      "   ----------------------------- ---------- 63/86 [scikit-learn]\n",
      "   ----------------------------- ---------- 63/86 [scikit-learn]\n",
      "   ----------------------------- ---------- 63/86 [scikit-learn]\n",
      "   ----------------------------- ---------- 63/86 [scikit-learn]\n",
      "   ----------------------------- ---------- 63/86 [scikit-learn]\n",
      "   ----------------------------- ---------- 63/86 [scikit-learn]\n",
      "   ----------------------------- ---------- 63/86 [scikit-learn]\n",
      "   ----------------------------- ---------- 63/86 [scikit-learn]\n",
      "   ----------------------------- ---------- 63/86 [scikit-learn]\n",
      "   ----------------------------- ---------- 63/86 [scikit-learn]\n",
      "   ----------------------------- ---------- 63/86 [scikit-learn]\n",
      "   ----------------------------- ---------- 63/86 [scikit-learn]\n",
      "   ----------------------------- ---------- 63/86 [scikit-learn]\n",
      "   ----------------------------- ---------- 63/86 [scikit-learn]\n",
      "   ----------------------------- ---------- 63/86 [scikit-learn]\n",
      "   ----------------------------- ---------- 63/86 [scikit-learn]\n",
      "   ----------------------------- ---------- 64/86 [matplotlib]\n",
      "   ----------------------------- ---------- 64/86 [matplotlib]\n",
      "   ----------------------------- ---------- 64/86 [matplotlib]\n",
      "   ----------------------------- ---------- 64/86 [matplotlib]\n",
      "   ----------------------------- ---------- 64/86 [matplotlib]\n",
      "   ----------------------------- ---------- 64/86 [matplotlib]\n",
      "   ----------------------------- ---------- 64/86 [matplotlib]\n",
      "   ----------------------------- ---------- 64/86 [matplotlib]\n",
      "   ----------------------------- ---------- 64/86 [matplotlib]\n",
      "   ----------------------------- ---------- 64/86 [matplotlib]\n",
      "   ----------------------------- ---------- 64/86 [matplotlib]\n",
      "   ----------------------------- ---------- 64/86 [matplotlib]\n",
      "   ----------------------------- ---------- 64/86 [matplotlib]\n",
      "   ----------------------------- ---------- 64/86 [matplotlib]\n",
      "   ----------------------------- ---------- 64/86 [matplotlib]\n",
      "   ----------------------------- ---------- 64/86 [matplotlib]\n",
      "   ------------------------------- -------- 68/86 [ipywidgets]\n",
      "   -------------------------------- ------- 69/86 [httpx]\n",
      "   --------------------------------- ------ 71/86 [seaborn]\n",
      "   --------------------------------- ------ 71/86 [seaborn]\n",
      "   --------------------------------- ------ 73/86 [jsonschema]\n",
      "   ---------------------------------- ----- 75/86 [nbformat]\n",
      "   ------------------------------------ --- 78/86 [nbconvert]\n",
      "   ------------------------------------ --- 79/86 [jupyter-server]\n",
      "   ------------------------------------ --- 79/86 [jupyter-server]\n",
      "   ------------------------------------- -- 81/86 [jupyterlab-server]\n",
      "   -------------------------------------- - 83/86 [jupyterlab]\n",
      "   -------------------------------------- - 83/86 [jupyterlab]\n",
      "   -------------------------------------- - 83/86 [jupyterlab]\n",
      "   -------------------------------------- - 83/86 [jupyterlab]\n",
      "   -------------------------------------- - 83/86 [jupyterlab]\n",
      "   ---------------------------------------  84/86 [notebook]\n",
      "   ---------------------------------------  84/86 [notebook]\n",
      "   ---------------------------------------  84/86 [notebook]\n",
      "   ---------------------------------------- 86/86 [jupyter]\n",
      "\n",
      "Successfully installed MarkupSafe-3.0.2 anyio-4.9.0 argon2-cffi-25.1.0 argon2-cffi-bindings-21.2.0 arrow-1.3.0 async-lru-2.0.5 attrs-25.3.0 babel-2.17.0 beautifulsoup4-4.13.4 bleach-6.2.0 certifi-2025.7.14 cffi-1.17.1 charset_normalizer-3.4.2 contourpy-1.3.3 cycler-0.12.1 defusedxml-0.7.1 fastjsonschema-2.21.1 fonttools-4.59.0 fqdn-1.5.1 h11-0.16.0 httpcore-1.0.9 httpx-0.28.1 idna-3.10 ipywidgets-8.1.7 isoduration-20.11.0 jinja2-3.1.6 joblib-1.5.1 json5-0.12.0 jsonpointer-3.0.0 jsonschema-4.25.0 jsonschema-specifications-2025.4.1 jupyter-1.1.1 jupyter-console-6.6.3 jupyter-events-0.12.0 jupyter-lsp-2.2.6 jupyter-server-2.16.0 jupyter-server-terminals-0.5.3 jupyterlab-4.4.5 jupyterlab-pygments-0.3.0 jupyterlab-server-2.27.3 jupyterlab_widgets-3.0.15 kiwisolver-1.4.8 lark-1.2.2 matplotlib-3.10.3 mistune-3.1.3 nbclient-0.10.2 nbconvert-7.16.6 nbformat-5.10.4 notebook-7.4.4 notebook-shim-0.2.4 numpy-2.3.2 overrides-7.7.0 pandas-2.3.1 pandocfilters-1.5.1 pillow-11.3.0 prometheus-client-0.22.1 pycparser-2.22 pyparsing-3.2.3 python-json-logger-3.3.0 pytz-2025.2 pywinpty-2.0.15 pyyaml-6.0.2 referencing-0.36.2 requests-2.32.4 rfc3339-validator-0.1.4 rfc3986-validator-0.1.1 rfc3987-syntax-1.1.0 rpds-py-0.26.0 scikit-learn-1.7.1 scipy-1.16.0 seaborn-0.13.2 send2trash-1.8.3 sniffio-1.3.1 soupsieve-2.7 terminado-0.18.1 threadpoolctl-3.6.0 tinycss2-1.4.0 types-python-dateutil-2.9.0.20250708 typing_extensions-4.14.1 tzdata-2025.2 uri-template-1.3.0 urllib3-2.5.0 webcolors-24.11.1 webencodings-0.5.1 websocket-client-1.8.0 widgetsnbextension-4.0.14\n"
     ]
    }
   ],
   "source": [
    "!pip install -r C:\\Users\\DELL\\Desktop\\Classification_Project\\requirement.txt"
   ]
  },
  {
   "cell_type": "code",
   "execution_count": 6,
   "id": "6cc52723",
   "metadata": {},
   "outputs": [],
   "source": [
    "import pandas as pd\n",
    "import numpy as np\n",
    "import matplotlib.pyplot as plt\n",
    "import seaborn as sns"
   ]
  },
  {
   "cell_type": "code",
   "execution_count": 7,
   "id": "d288bc18",
   "metadata": {},
   "outputs": [],
   "source": [
    "df = pd.read_csv(r'C:\\Users\\DELL\\Desktop\\Classification_Project\\dataset\\personality_datasert.csv')"
   ]
  },
  {
   "cell_type": "code",
   "execution_count": 8,
   "id": "79ae681e",
   "metadata": {},
   "outputs": [
    {
     "data": {
      "text/html": [
       "<div>\n",
       "<style scoped>\n",
       "    .dataframe tbody tr th:only-of-type {\n",
       "        vertical-align: middle;\n",
       "    }\n",
       "\n",
       "    .dataframe tbody tr th {\n",
       "        vertical-align: top;\n",
       "    }\n",
       "\n",
       "    .dataframe thead th {\n",
       "        text-align: right;\n",
       "    }\n",
       "</style>\n",
       "<table border=\"1\" class=\"dataframe\">\n",
       "  <thead>\n",
       "    <tr style=\"text-align: right;\">\n",
       "      <th></th>\n",
       "      <th>Time_spent_Alone</th>\n",
       "      <th>Stage_fear</th>\n",
       "      <th>Social_event_attendance</th>\n",
       "      <th>Going_outside</th>\n",
       "      <th>Drained_after_socializing</th>\n",
       "      <th>Friends_circle_size</th>\n",
       "      <th>Post_frequency</th>\n",
       "      <th>Personality</th>\n",
       "    </tr>\n",
       "  </thead>\n",
       "  <tbody>\n",
       "    <tr>\n",
       "      <th>0</th>\n",
       "      <td>4.0</td>\n",
       "      <td>No</td>\n",
       "      <td>4.0</td>\n",
       "      <td>6.0</td>\n",
       "      <td>No</td>\n",
       "      <td>13.0</td>\n",
       "      <td>5.0</td>\n",
       "      <td>Extrovert</td>\n",
       "    </tr>\n",
       "    <tr>\n",
       "      <th>1</th>\n",
       "      <td>9.0</td>\n",
       "      <td>Yes</td>\n",
       "      <td>0.0</td>\n",
       "      <td>0.0</td>\n",
       "      <td>Yes</td>\n",
       "      <td>0.0</td>\n",
       "      <td>3.0</td>\n",
       "      <td>Introvert</td>\n",
       "    </tr>\n",
       "    <tr>\n",
       "      <th>2</th>\n",
       "      <td>9.0</td>\n",
       "      <td>Yes</td>\n",
       "      <td>1.0</td>\n",
       "      <td>2.0</td>\n",
       "      <td>Yes</td>\n",
       "      <td>5.0</td>\n",
       "      <td>2.0</td>\n",
       "      <td>Introvert</td>\n",
       "    </tr>\n",
       "    <tr>\n",
       "      <th>3</th>\n",
       "      <td>0.0</td>\n",
       "      <td>No</td>\n",
       "      <td>6.0</td>\n",
       "      <td>7.0</td>\n",
       "      <td>No</td>\n",
       "      <td>14.0</td>\n",
       "      <td>8.0</td>\n",
       "      <td>Extrovert</td>\n",
       "    </tr>\n",
       "    <tr>\n",
       "      <th>4</th>\n",
       "      <td>3.0</td>\n",
       "      <td>No</td>\n",
       "      <td>9.0</td>\n",
       "      <td>4.0</td>\n",
       "      <td>No</td>\n",
       "      <td>8.0</td>\n",
       "      <td>5.0</td>\n",
       "      <td>Extrovert</td>\n",
       "    </tr>\n",
       "    <tr>\n",
       "      <th>...</th>\n",
       "      <td>...</td>\n",
       "      <td>...</td>\n",
       "      <td>...</td>\n",
       "      <td>...</td>\n",
       "      <td>...</td>\n",
       "      <td>...</td>\n",
       "      <td>...</td>\n",
       "      <td>...</td>\n",
       "    </tr>\n",
       "    <tr>\n",
       "      <th>2895</th>\n",
       "      <td>3.0</td>\n",
       "      <td>No</td>\n",
       "      <td>7.0</td>\n",
       "      <td>6.0</td>\n",
       "      <td>No</td>\n",
       "      <td>6.0</td>\n",
       "      <td>6.0</td>\n",
       "      <td>Extrovert</td>\n",
       "    </tr>\n",
       "    <tr>\n",
       "      <th>2896</th>\n",
       "      <td>3.0</td>\n",
       "      <td>No</td>\n",
       "      <td>8.0</td>\n",
       "      <td>3.0</td>\n",
       "      <td>No</td>\n",
       "      <td>14.0</td>\n",
       "      <td>9.0</td>\n",
       "      <td>Extrovert</td>\n",
       "    </tr>\n",
       "    <tr>\n",
       "      <th>2897</th>\n",
       "      <td>4.0</td>\n",
       "      <td>Yes</td>\n",
       "      <td>1.0</td>\n",
       "      <td>1.0</td>\n",
       "      <td>Yes</td>\n",
       "      <td>4.0</td>\n",
       "      <td>0.0</td>\n",
       "      <td>Introvert</td>\n",
       "    </tr>\n",
       "    <tr>\n",
       "      <th>2898</th>\n",
       "      <td>11.0</td>\n",
       "      <td>Yes</td>\n",
       "      <td>1.0</td>\n",
       "      <td>3.0</td>\n",
       "      <td>Yes</td>\n",
       "      <td>2.0</td>\n",
       "      <td>0.0</td>\n",
       "      <td>Introvert</td>\n",
       "    </tr>\n",
       "    <tr>\n",
       "      <th>2899</th>\n",
       "      <td>3.0</td>\n",
       "      <td>No</td>\n",
       "      <td>6.0</td>\n",
       "      <td>6.0</td>\n",
       "      <td>No</td>\n",
       "      <td>6.0</td>\n",
       "      <td>9.0</td>\n",
       "      <td>Extrovert</td>\n",
       "    </tr>\n",
       "  </tbody>\n",
       "</table>\n",
       "<p>2900 rows × 8 columns</p>\n",
       "</div>"
      ],
      "text/plain": [
       "      Time_spent_Alone Stage_fear  Social_event_attendance  Going_outside  \\\n",
       "0                  4.0         No                      4.0            6.0   \n",
       "1                  9.0        Yes                      0.0            0.0   \n",
       "2                  9.0        Yes                      1.0            2.0   \n",
       "3                  0.0         No                      6.0            7.0   \n",
       "4                  3.0         No                      9.0            4.0   \n",
       "...                ...        ...                      ...            ...   \n",
       "2895               3.0         No                      7.0            6.0   \n",
       "2896               3.0         No                      8.0            3.0   \n",
       "2897               4.0        Yes                      1.0            1.0   \n",
       "2898              11.0        Yes                      1.0            3.0   \n",
       "2899               3.0         No                      6.0            6.0   \n",
       "\n",
       "     Drained_after_socializing  Friends_circle_size  Post_frequency  \\\n",
       "0                           No                 13.0             5.0   \n",
       "1                          Yes                  0.0             3.0   \n",
       "2                          Yes                  5.0             2.0   \n",
       "3                           No                 14.0             8.0   \n",
       "4                           No                  8.0             5.0   \n",
       "...                        ...                  ...             ...   \n",
       "2895                        No                  6.0             6.0   \n",
       "2896                        No                 14.0             9.0   \n",
       "2897                       Yes                  4.0             0.0   \n",
       "2898                       Yes                  2.0             0.0   \n",
       "2899                        No                  6.0             9.0   \n",
       "\n",
       "     Personality  \n",
       "0      Extrovert  \n",
       "1      Introvert  \n",
       "2      Introvert  \n",
       "3      Extrovert  \n",
       "4      Extrovert  \n",
       "...          ...  \n",
       "2895   Extrovert  \n",
       "2896   Extrovert  \n",
       "2897   Introvert  \n",
       "2898   Introvert  \n",
       "2899   Extrovert  \n",
       "\n",
       "[2900 rows x 8 columns]"
      ]
     },
     "execution_count": 8,
     "metadata": {},
     "output_type": "execute_result"
    }
   ],
   "source": [
    "df"
   ]
  },
  {
   "cell_type": "code",
   "execution_count": 10,
   "id": "b42589cb",
   "metadata": {},
   "outputs": [
    {
     "data": {
      "text/plain": [
       "' - Time_spent_Alone: Hours spent alone daily (0–11).\\n    - Stage_fear: Presence of stage fright (Yes/No).\\n    - Social_event_attendance: Frequency of social events (0–10).\\n    - Going_outside: Frequency of going outside (0–7).\\n    - Drained_after_socializing: Feeling drained after socializing (Yes/No).\\n    - Friends_circle_size: Number of close friends (0–15).\\n    - Post_frequency: Social media post frequency (0–10).\\n    - Personality: Target variable (Extrovert/Introvert).* '"
      ]
     },
     "execution_count": 10,
     "metadata": {},
     "output_type": "execute_result"
    }
   ],
   "source": [
    "''' - Time_spent_Alone: Hours spent alone daily (0–11).\n",
    "    - Stage_fear: Presence of stage fright (Yes/No).\n",
    "    - Social_event_attendance: Frequency of social events (0–10).\n",
    "    - Going_outside: Frequency of going outside (0–7).\n",
    "    - Drained_after_socializing: Feeling drained after socializing (Yes/No).\n",
    "    - Friends_circle_size: Number of close friends (0–15).\n",
    "    - Post_frequency: Social media post frequency (0–10).\n",
    "    - Personality: Target variable (Extrovert/Introvert).* '''"
   ]
  },
  {
   "cell_type": "code",
   "execution_count": 11,
   "id": "d2ce6a51",
   "metadata": {},
   "outputs": [
    {
     "data": {
      "text/plain": [
       "Index(['Time_spent_Alone', 'Stage_fear', 'Social_event_attendance',\n",
       "       'Going_outside', 'Drained_after_socializing', 'Friends_circle_size',\n",
       "       'Post_frequency', 'Personality'],\n",
       "      dtype='object')"
      ]
     },
     "execution_count": 11,
     "metadata": {},
     "output_type": "execute_result"
    }
   ],
   "source": [
    "df.columns"
   ]
  },
  {
   "cell_type": "code",
   "execution_count": 12,
   "id": "14dc7ecf",
   "metadata": {},
   "outputs": [
    {
     "name": "stdout",
     "output_type": "stream",
     "text": [
      "<class 'pandas.core.frame.DataFrame'>\n",
      "RangeIndex: 2900 entries, 0 to 2899\n",
      "Data columns (total 8 columns):\n",
      " #   Column                     Non-Null Count  Dtype  \n",
      "---  ------                     --------------  -----  \n",
      " 0   Time_spent_Alone           2900 non-null   float64\n",
      " 1   Stage_fear                 2900 non-null   object \n",
      " 2   Social_event_attendance    2900 non-null   float64\n",
      " 3   Going_outside              2900 non-null   float64\n",
      " 4   Drained_after_socializing  2900 non-null   object \n",
      " 5   Friends_circle_size        2900 non-null   float64\n",
      " 6   Post_frequency             2900 non-null   float64\n",
      " 7   Personality                2900 non-null   object \n",
      "dtypes: float64(5), object(3)\n",
      "memory usage: 181.4+ KB\n"
     ]
    }
   ],
   "source": [
    "df.info()"
   ]
  },
  {
   "cell_type": "code",
   "execution_count": 13,
   "id": "3ac52d24",
   "metadata": {},
   "outputs": [
    {
     "data": {
      "text/html": [
       "<div>\n",
       "<style scoped>\n",
       "    .dataframe tbody tr th:only-of-type {\n",
       "        vertical-align: middle;\n",
       "    }\n",
       "\n",
       "    .dataframe tbody tr th {\n",
       "        vertical-align: top;\n",
       "    }\n",
       "\n",
       "    .dataframe thead th {\n",
       "        text-align: right;\n",
       "    }\n",
       "</style>\n",
       "<table border=\"1\" class=\"dataframe\">\n",
       "  <thead>\n",
       "    <tr style=\"text-align: right;\">\n",
       "      <th></th>\n",
       "      <th>Time_spent_Alone</th>\n",
       "      <th>Social_event_attendance</th>\n",
       "      <th>Going_outside</th>\n",
       "      <th>Friends_circle_size</th>\n",
       "      <th>Post_frequency</th>\n",
       "    </tr>\n",
       "  </thead>\n",
       "  <tbody>\n",
       "    <tr>\n",
       "      <th>count</th>\n",
       "      <td>2900.000000</td>\n",
       "      <td>2900.000000</td>\n",
       "      <td>2900.000000</td>\n",
       "      <td>2900.000000</td>\n",
       "      <td>2900.000000</td>\n",
       "    </tr>\n",
       "    <tr>\n",
       "      <th>mean</th>\n",
       "      <td>4.505816</td>\n",
       "      <td>3.963354</td>\n",
       "      <td>3.000000</td>\n",
       "      <td>6.268863</td>\n",
       "      <td>3.564727</td>\n",
       "    </tr>\n",
       "    <tr>\n",
       "      <th>std</th>\n",
       "      <td>3.441180</td>\n",
       "      <td>2.872608</td>\n",
       "      <td>2.221597</td>\n",
       "      <td>4.232340</td>\n",
       "      <td>2.893587</td>\n",
       "    </tr>\n",
       "    <tr>\n",
       "      <th>min</th>\n",
       "      <td>0.000000</td>\n",
       "      <td>0.000000</td>\n",
       "      <td>0.000000</td>\n",
       "      <td>0.000000</td>\n",
       "      <td>0.000000</td>\n",
       "    </tr>\n",
       "    <tr>\n",
       "      <th>25%</th>\n",
       "      <td>2.000000</td>\n",
       "      <td>2.000000</td>\n",
       "      <td>1.000000</td>\n",
       "      <td>3.000000</td>\n",
       "      <td>1.000000</td>\n",
       "    </tr>\n",
       "    <tr>\n",
       "      <th>50%</th>\n",
       "      <td>4.000000</td>\n",
       "      <td>3.963354</td>\n",
       "      <td>3.000000</td>\n",
       "      <td>5.000000</td>\n",
       "      <td>3.000000</td>\n",
       "    </tr>\n",
       "    <tr>\n",
       "      <th>75%</th>\n",
       "      <td>7.000000</td>\n",
       "      <td>6.000000</td>\n",
       "      <td>5.000000</td>\n",
       "      <td>10.000000</td>\n",
       "      <td>6.000000</td>\n",
       "    </tr>\n",
       "    <tr>\n",
       "      <th>max</th>\n",
       "      <td>11.000000</td>\n",
       "      <td>10.000000</td>\n",
       "      <td>7.000000</td>\n",
       "      <td>15.000000</td>\n",
       "      <td>10.000000</td>\n",
       "    </tr>\n",
       "  </tbody>\n",
       "</table>\n",
       "</div>"
      ],
      "text/plain": [
       "       Time_spent_Alone  Social_event_attendance  Going_outside  \\\n",
       "count       2900.000000              2900.000000    2900.000000   \n",
       "mean           4.505816                 3.963354       3.000000   \n",
       "std            3.441180                 2.872608       2.221597   \n",
       "min            0.000000                 0.000000       0.000000   \n",
       "25%            2.000000                 2.000000       1.000000   \n",
       "50%            4.000000                 3.963354       3.000000   \n",
       "75%            7.000000                 6.000000       5.000000   \n",
       "max           11.000000                10.000000       7.000000   \n",
       "\n",
       "       Friends_circle_size  Post_frequency  \n",
       "count          2900.000000     2900.000000  \n",
       "mean              6.268863        3.564727  \n",
       "std               4.232340        2.893587  \n",
       "min               0.000000        0.000000  \n",
       "25%               3.000000        1.000000  \n",
       "50%               5.000000        3.000000  \n",
       "75%              10.000000        6.000000  \n",
       "max              15.000000       10.000000  "
      ]
     },
     "execution_count": 13,
     "metadata": {},
     "output_type": "execute_result"
    }
   ],
   "source": [
    "df.describe()"
   ]
  },
  {
   "cell_type": "code",
   "execution_count": 14,
   "id": "381c8486",
   "metadata": {},
   "outputs": [
    {
     "data": {
      "text/plain": [
       "Time_spent_Alone             0\n",
       "Stage_fear                   0\n",
       "Social_event_attendance      0\n",
       "Going_outside                0\n",
       "Drained_after_socializing    0\n",
       "Friends_circle_size          0\n",
       "Post_frequency               0\n",
       "Personality                  0\n",
       "dtype: int64"
      ]
     },
     "execution_count": 14,
     "metadata": {},
     "output_type": "execute_result"
    }
   ],
   "source": [
    "df.isnull().sum()"
   ]
  },
  {
   "cell_type": "code",
   "execution_count": 15,
   "id": "63416c5f",
   "metadata": {},
   "outputs": [
    {
     "data": {
      "text/html": [
       "<div>\n",
       "<style scoped>\n",
       "    .dataframe tbody tr th:only-of-type {\n",
       "        vertical-align: middle;\n",
       "    }\n",
       "\n",
       "    .dataframe tbody tr th {\n",
       "        vertical-align: top;\n",
       "    }\n",
       "\n",
       "    .dataframe thead th {\n",
       "        text-align: right;\n",
       "    }\n",
       "</style>\n",
       "<table border=\"1\" class=\"dataframe\">\n",
       "  <thead>\n",
       "    <tr style=\"text-align: right;\">\n",
       "      <th></th>\n",
       "      <th>Time_spent_Alone</th>\n",
       "      <th>Stage_fear</th>\n",
       "      <th>Social_event_attendance</th>\n",
       "      <th>Going_outside</th>\n",
       "      <th>Drained_after_socializing</th>\n",
       "      <th>Friends_circle_size</th>\n",
       "      <th>Post_frequency</th>\n",
       "      <th>Personality</th>\n",
       "    </tr>\n",
       "  </thead>\n",
       "  <tbody>\n",
       "    <tr>\n",
       "      <th>0</th>\n",
       "      <td>4.0</td>\n",
       "      <td>No</td>\n",
       "      <td>4.0</td>\n",
       "      <td>6.0</td>\n",
       "      <td>No</td>\n",
       "      <td>13.0</td>\n",
       "      <td>5.0</td>\n",
       "      <td>Extrovert</td>\n",
       "    </tr>\n",
       "    <tr>\n",
       "      <th>1</th>\n",
       "      <td>9.0</td>\n",
       "      <td>Yes</td>\n",
       "      <td>0.0</td>\n",
       "      <td>0.0</td>\n",
       "      <td>Yes</td>\n",
       "      <td>0.0</td>\n",
       "      <td>3.0</td>\n",
       "      <td>Introvert</td>\n",
       "    </tr>\n",
       "    <tr>\n",
       "      <th>2</th>\n",
       "      <td>9.0</td>\n",
       "      <td>Yes</td>\n",
       "      <td>1.0</td>\n",
       "      <td>2.0</td>\n",
       "      <td>Yes</td>\n",
       "      <td>5.0</td>\n",
       "      <td>2.0</td>\n",
       "      <td>Introvert</td>\n",
       "    </tr>\n",
       "    <tr>\n",
       "      <th>3</th>\n",
       "      <td>0.0</td>\n",
       "      <td>No</td>\n",
       "      <td>6.0</td>\n",
       "      <td>7.0</td>\n",
       "      <td>No</td>\n",
       "      <td>14.0</td>\n",
       "      <td>8.0</td>\n",
       "      <td>Extrovert</td>\n",
       "    </tr>\n",
       "    <tr>\n",
       "      <th>4</th>\n",
       "      <td>3.0</td>\n",
       "      <td>No</td>\n",
       "      <td>9.0</td>\n",
       "      <td>4.0</td>\n",
       "      <td>No</td>\n",
       "      <td>8.0</td>\n",
       "      <td>5.0</td>\n",
       "      <td>Extrovert</td>\n",
       "    </tr>\n",
       "  </tbody>\n",
       "</table>\n",
       "</div>"
      ],
      "text/plain": [
       "   Time_spent_Alone Stage_fear  Social_event_attendance  Going_outside  \\\n",
       "0               4.0         No                      4.0            6.0   \n",
       "1               9.0        Yes                      0.0            0.0   \n",
       "2               9.0        Yes                      1.0            2.0   \n",
       "3               0.0         No                      6.0            7.0   \n",
       "4               3.0         No                      9.0            4.0   \n",
       "\n",
       "  Drained_after_socializing  Friends_circle_size  Post_frequency Personality  \n",
       "0                        No                 13.0             5.0   Extrovert  \n",
       "1                       Yes                  0.0             3.0   Introvert  \n",
       "2                       Yes                  5.0             2.0   Introvert  \n",
       "3                        No                 14.0             8.0   Extrovert  \n",
       "4                        No                  8.0             5.0   Extrovert  "
      ]
     },
     "execution_count": 15,
     "metadata": {},
     "output_type": "execute_result"
    }
   ],
   "source": [
    "df.head()"
   ]
  },
  {
   "cell_type": "code",
   "execution_count": 21,
   "id": "48769e43",
   "metadata": {},
   "outputs": [
    {
     "data": {
      "text/plain": [
       "Stage_fear\n",
       "No     1490\n",
       "Yes    1410\n",
       "Name: count, dtype: int64"
      ]
     },
     "execution_count": 21,
     "metadata": {},
     "output_type": "execute_result"
    }
   ],
   "source": [
    "df['Stage_fear'].value_counts()"
   ]
  },
  {
   "cell_type": "code",
   "execution_count": 24,
   "id": "eecf32fd",
   "metadata": {},
   "outputs": [
    {
     "data": {
      "text/plain": [
       "<Axes: xlabel='Stage_fear'>"
      ]
     },
     "execution_count": 24,
     "metadata": {},
     "output_type": "execute_result"
    },
    {
     "data": {
      "image/png": "[encoded data removed]",
      "text/plain": [
       "<Figure size 640x480 with 1 Axes>"
      ]
     },
     "metadata": {},
     "output_type": "display_data"
    }
   ],
   "source": [
    "df['Stage_fear'].value_counts().plot(kind='bar', color=['green', 'darkred'])"
   ]
  },
  {
   "cell_type": "code",
   "execution_count": 25,
   "id": "dbd77a10",
   "metadata": {},
   "outputs": [
    {
     "data": {
      "text/plain": [
       "Time_spent_Alone\n",
       "0.000000     369\n",
       "2.000000     357\n",
       "3.000000     353\n",
       "1.000000     326\n",
       "9.000000     206\n",
       "10.000000    196\n",
       "4.000000     190\n",
       "7.000000     190\n",
       "5.000000     180\n",
       "8.000000     180\n",
       "6.000000     150\n",
       "11.000000    140\n",
       "4.505816      63\n",
       "Name: count, dtype: int64"
      ]
     },
     "execution_count": 25,
     "metadata": {},
     "output_type": "execute_result"
    }
   ],
   "source": [
    "df['Time_spent_Alone'].value_counts()"
   ]
  },
  {
   "cell_type": "code",
   "execution_count": 29,
   "id": "1bec1695",
   "metadata": {},
   "outputs": [
    {
     "data": {
      "text/plain": [
       "Text(0.5, 1.0, 'Time Spent Alone Distribution')"
      ]
     },
     "execution_count": 29,
     "metadata": {},
     "output_type": "execute_result"
    },
    {
     "data": {
      "image/png": "[encoded data removed]",
      "text/plain": [
       "<Figure size 640x480 with 1 Axes>"
      ]
     },
     "metadata": {},
     "output_type": "display_data"
    }
   ],
   "source": [
    "df['Time_spent_Alone'].value_counts().plot(kind='bar', color=['blue', 'orange']).set_title('Time Spent Alone Distribution')"
   ]
  },
  {
   "cell_type": "code",
   "execution_count": 33,
   "id": "89f922df",
   "metadata": {},
   "outputs": [
    {
     "data": {
      "text/plain": [
       "Social_event_attendance\n",
       "2.000000     408\n",
       "0.000000     378\n",
       "1.000000     322\n",
       "3.000000     317\n",
       "4.000000     255\n",
       "6.000000     239\n",
       "7.000000     239\n",
       "9.000000     236\n",
       "5.000000     224\n",
       "8.000000     206\n",
       "3.963354      62\n",
       "10.000000     14\n",
       "Name: count, dtype: int64"
      ]
     },
     "execution_count": 33,
     "metadata": {},
     "output_type": "execute_result"
    }
   ],
   "source": [
    "df['Social_event_attendance'].value_counts()"
   ]
  },
  {
   "cell_type": "code",
   "execution_count": 30,
   "id": "add454e2",
   "metadata": {},
   "outputs": [
    {
     "data": {
      "text/plain": [
       "Text(0.5, 1.0, 'Social Event Attendance Distribution')"
      ]
     },
     "execution_count": 30,
     "metadata": {},
     "output_type": "execute_result"
    },
    {
     "data": {
      "image/png": "[encoded data removed]",
      "text/plain": [
       "<Figure size 640x480 with 1 Axes>"
      ]
     },
     "metadata": {},
     "output_type": "display_data"
    }
   ],
   "source": [
    "df['Social_event_attendance'].value_counts().plot(kind='bar', color=['purple', 'yellow']).set_title('Social Event Attendance Distribution')"
   ]
  },
  {
   "cell_type": "code",
   "execution_count": 34,
   "id": "68660745",
   "metadata": {},
   "outputs": [
    {
     "data": {
      "text/plain": [
       "Drained_after_socializing\n",
       "No     1493\n",
       "Yes    1407\n",
       "Name: count, dtype: int64"
      ]
     },
     "execution_count": 34,
     "metadata": {},
     "output_type": "execute_result"
    }
   ],
   "source": [
    "df['Drained_after_socializing'].value_counts()"
   ]
  },
  {
   "cell_type": "code",
   "execution_count": 35,
   "id": "e08d500e",
   "metadata": {},
   "outputs": [
    {
     "data": {
      "text/plain": [
       "Text(0.5, 1.0, 'Drained After Socializing Distribution')"
      ]
     },
     "execution_count": 35,
     "metadata": {},
     "output_type": "execute_result"
    },
    {
     "data": {
      "image/png": "[encoded data removed]",
      "text/plain": [
       "<Figure size 640x480 with 1 Axes>"
      ]
     },
     "metadata": {},
     "output_type": "display_data"
    }
   ],
   "source": [
    "df['Drained_after_socializing'].value_counts().plot(kind='bar', color=['cyan', 'magenta']).set_title('Drained After Socializing Distribution')"
   ]
  },
  {
   "cell_type": "code",
   "execution_count": 37,
   "id": "3b4e8b79",
   "metadata": {},
   "outputs": [
    {
     "data": {
      "text/plain": [
       "Going_outside\n",
       "0.0    498\n",
       "2.0    456\n",
       "1.0    429\n",
       "5.0    374\n",
       "4.0    359\n",
       "6.0    335\n",
       "3.0    275\n",
       "7.0    174\n",
       "Name: count, dtype: int64"
      ]
     },
     "execution_count": 37,
     "metadata": {},
     "output_type": "execute_result"
    }
   ],
   "source": [
    "df['Going_outside'].value_counts()"
   ]
  },
  {
   "cell_type": "code",
   "execution_count": 38,
   "id": "2dbd440e",
   "metadata": {},
   "outputs": [
    {
     "data": {
      "text/plain": [
       "Text(0.5, 1.0, 'Going Outside Frequency Distribution')"
      ]
     },
     "execution_count": 38,
     "metadata": {},
     "output_type": "execute_result"
    },
    {
     "data": {
      "image/png": "[encoded data removed]",
      "text/plain": [
       "<Figure size 640x480 with 1 Axes>"
      ]
     },
     "metadata": {},
     "output_type": "display_data"
    }
   ],
   "source": [
    "df['Going_outside'].value_counts().plot(kind='bar', color=['lightblue', 'lightgreen']).set_title('Going Outside Frequency Distribution')"
   ]
  },
  {
   "cell_type": "code",
   "execution_count": 39,
   "id": "5244bcae",
   "metadata": {},
   "outputs": [
    {
     "data": {
      "text/plain": [
       "Friends_circle_size\n",
       "5.000000     301\n",
       "3.000000     283\n",
       "1.000000     281\n",
       "2.000000     274\n",
       "4.000000     254\n",
       "8.000000     165\n",
       "12.000000    148\n",
       "10.000000    146\n",
       "14.000000    144\n",
       "6.000000     137\n",
       "9.000000     135\n",
       "11.000000    134\n",
       "7.000000     133\n",
       "13.000000    123\n",
       "0.000000     106\n",
       "6.268863      77\n",
       "15.000000     59\n",
       "Name: count, dtype: int64"
      ]
     },
     "execution_count": 39,
     "metadata": {},
     "output_type": "execute_result"
    }
   ],
   "source": [
    "df['Friends_circle_size'].value_counts()"
   ]
  },
  {
   "cell_type": "code",
   "execution_count": 40,
   "id": "26477d38",
   "metadata": {},
   "outputs": [
    {
     "data": {
      "text/plain": [
       "Text(0.5, 1.0, 'Friends Circle Size Distribution')"
      ]
     },
     "execution_count": 40,
     "metadata": {},
     "output_type": "execute_result"
    },
    {
     "data": {
      "image/png": "[encoded data removed]",
      "text/plain": [
       "<Figure size 640x480 with 1 Axes>"
      ]
     },
     "metadata": {},
     "output_type": "display_data"
    }
   ],
   "source": [
    "df['Friends_circle_size'].value_counts().plot(kind='bar', color=['pink', 'lightcoral']).set_title('Friends Circle Size Distribution')"
   ]
  },
  {
   "cell_type": "code",
   "execution_count": 42,
   "id": "940db561",
   "metadata": {},
   "outputs": [
    {
     "data": {
      "text/plain": [
       "Post_frequency\n",
       "2.000000     481\n",
       "1.000000     455\n",
       "0.000000     451\n",
       "7.000000     236\n",
       "5.000000     212\n",
       "6.000000     210\n",
       "3.000000     208\n",
       "4.000000     195\n",
       "8.000000     193\n",
       "9.000000     171\n",
       "3.564727      65\n",
       "10.000000     23\n",
       "Name: count, dtype: int64"
      ]
     },
     "execution_count": 42,
     "metadata": {},
     "output_type": "execute_result"
    }
   ],
   "source": [
    "df['Post_frequency'].value_counts()"
   ]
  },
  {
   "cell_type": "code",
   "execution_count": 43,
   "id": "5fc5a852",
   "metadata": {},
   "outputs": [
    {
     "data": {
      "text/plain": [
       "Text(0.5, 1.0, 'Post Frequency Distribution')"
      ]
     },
     "execution_count": 43,
     "metadata": {},
     "output_type": "execute_result"
    },
    {
     "data": {
      "image/png": "[encoded data removed]",
      "text/plain": [
       "<Figure size 640x480 with 1 Axes>"
      ]
     },
     "metadata": {},
     "output_type": "display_data"
    }
   ],
   "source": [
    "df['Post_frequency'].value_counts().plot(kind='bar', color=['lightgray', 'darkgray']).set_title('Post Frequency Distribution')"
   ]
  },
  {
   "cell_type": "code",
   "execution_count": 44,
   "id": "1a5f5a73",
   "metadata": {},
   "outputs": [
    {
     "data": {
      "text/plain": [
       "Personality\n",
       "Extrovert    1491\n",
       "Introvert    1409\n",
       "Name: count, dtype: int64"
      ]
     },
     "execution_count": 44,
     "metadata": {},
     "output_type": "execute_result"
    }
   ],
   "source": [
    "df['Personality'].value_counts()"
   ]
  },
  {
   "cell_type": "code",
   "execution_count": 45,
   "id": "fd33ab62",
   "metadata": {},
   "outputs": [
    {
     "data": {
      "text/plain": [
       "Text(0.5, 1.0, 'Personality Distribution')"
      ]
     },
     "execution_count": 45,
     "metadata": {},
     "output_type": "execute_result"
    },
    {
     "data": {
      "image/png": "[encoded data removed]",
      "text/plain": [
       "<Figure size 640x480 with 1 Axes>"
      ]
     },
     "metadata": {},
     "output_type": "display_data"
    }
   ],
   "source": [
    "df['Personality'].value_counts().plot(kind='bar', color=['lightgreen', 'lightcoral']).set_title('Personality Distribution')"
   ]
  },
  {
   "cell_type": "code",
   "execution_count": null,
   "id": "203cd25e",
   "metadata": {},
   "outputs": [],
   "source": []
  }
 ],
 "metadata": {
  "kernelspec": {
   "display_name": ".conda",
   "language": "python",
   "name": "python3"
  },
  "language_info": {
   "codemirror_mode": {
    "name": "ipython",
    "version": 3
   },
   "file_extension": ".py",
   "mimetype": "text/x-python",
   "name": "python",
   "nbconvert_exporter": "python",
   "pygments_lexer": "ipython3",
   "version": "3.12.11"
  }
 },
 "nbformat": 4,
 "nbformat_minor": 5
}
